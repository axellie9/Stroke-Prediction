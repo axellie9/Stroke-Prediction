{
 "cells": [
  {
   "cell_type": "code",
   "execution_count": 1,
   "metadata": {
    "collapsed": false,
    "pycharm": {
     "name": "#%%\n"
    }
   },
   "outputs": [],
   "source": [
    "import pandas as pd\n",
    "\n",
    "raw_data = pd.read_csv('./healthcare-dataset-stroke-data.csv')\n",
    "raw_data.drop('id', axis=1, inplace=True)\n"
   ]
  },
  {
   "cell_type": "markdown",
   "metadata": {},
   "source": [
    "# EXPLORATION & PREPROCESSING"
   ]
  },
  {
   "cell_type": "code",
   "execution_count": 2,
   "metadata": {
    "collapsed": false,
    "pycharm": {
     "name": "#%%\n"
    }
   },
   "outputs": [
    {
     "name": "stdout",
     "output_type": "stream",
     "text": [
      "<class 'pandas.core.frame.DataFrame'>\n",
      "RangeIndex: 5110 entries, 0 to 5109\n",
      "Data columns (total 11 columns):\n",
      " #   Column             Non-Null Count  Dtype  \n",
      "---  ------             --------------  -----  \n",
      " 0   gender             5110 non-null   object \n",
      " 1   age                5110 non-null   float64\n",
      " 2   hypertension       5110 non-null   int64  \n",
      " 3   heart_disease      5110 non-null   int64  \n",
      " 4   ever_married       5110 non-null   object \n",
      " 5   work_type          5110 non-null   object \n",
      " 6   Residence_type     5110 non-null   object \n",
      " 7   avg_glucose_level  5110 non-null   float64\n",
      " 8   bmi                4909 non-null   float64\n",
      " 9   smoking_status     5110 non-null   object \n",
      " 10  stroke             5110 non-null   int64  \n",
      "dtypes: float64(3), int64(3), object(5)\n",
      "memory usage: 439.3+ KB\n"
     ]
    }
   ],
   "source": [
    "raw_data.info()"
   ]
  },
  {
   "cell_type": "code",
   "execution_count": 3,
   "metadata": {
    "collapsed": false,
    "pycharm": {
     "name": "#%%\n"
    }
   },
   "outputs": [
    {
     "name": "stdout",
     "output_type": "stream",
     "text": [
      "Private          2925\n",
      "Self-employed     819\n",
      "children          687\n",
      "Govt_job          657\n",
      "Never_worked       22\n",
      "Name: work_type, dtype: int64\n",
      "Urban    2596\n",
      "Rural    2514\n",
      "Name: Residence_type, dtype: int64\n",
      "never smoked       1892\n",
      "Unknown            1544\n",
      "formerly smoked     885\n",
      "smokes              789\n",
      "Name: smoking_status, dtype: int64\n"
     ]
    }
   ],
   "source": [
    "print(raw_data['work_type'].value_counts())\n",
    "print(raw_data['Residence_type'].value_counts())\n",
    "print(raw_data['smoking_status'].value_counts())"
   ]
  },
  {
   "cell_type": "code",
   "execution_count": 4,
   "metadata": {
    "collapsed": false,
    "pycharm": {
     "name": "#%%\n"
    }
   },
   "outputs": [
    {
     "data": {
      "text/html": [
       "<div>\n",
       "<style scoped>\n",
       "    .dataframe tbody tr th:only-of-type {\n",
       "        vertical-align: middle;\n",
       "    }\n",
       "\n",
       "    .dataframe tbody tr th {\n",
       "        vertical-align: top;\n",
       "    }\n",
       "\n",
       "    .dataframe thead th {\n",
       "        text-align: right;\n",
       "    }\n",
       "</style>\n",
       "<table border=\"1\" class=\"dataframe\">\n",
       "  <thead>\n",
       "    <tr style=\"text-align: right;\">\n",
       "      <th></th>\n",
       "      <th>age</th>\n",
       "      <th>hypertension</th>\n",
       "      <th>heart_disease</th>\n",
       "      <th>avg_glucose_level</th>\n",
       "      <th>bmi</th>\n",
       "      <th>stroke</th>\n",
       "    </tr>\n",
       "  </thead>\n",
       "  <tbody>\n",
       "    <tr>\n",
       "      <th>count</th>\n",
       "      <td>5110.000000</td>\n",
       "      <td>5110.000000</td>\n",
       "      <td>5110.000000</td>\n",
       "      <td>5110.000000</td>\n",
       "      <td>4909.000000</td>\n",
       "      <td>5110.000000</td>\n",
       "    </tr>\n",
       "    <tr>\n",
       "      <th>mean</th>\n",
       "      <td>43.226614</td>\n",
       "      <td>0.097456</td>\n",
       "      <td>0.054012</td>\n",
       "      <td>106.147677</td>\n",
       "      <td>28.893237</td>\n",
       "      <td>0.048728</td>\n",
       "    </tr>\n",
       "    <tr>\n",
       "      <th>std</th>\n",
       "      <td>22.612647</td>\n",
       "      <td>0.296607</td>\n",
       "      <td>0.226063</td>\n",
       "      <td>45.283560</td>\n",
       "      <td>7.854067</td>\n",
       "      <td>0.215320</td>\n",
       "    </tr>\n",
       "    <tr>\n",
       "      <th>min</th>\n",
       "      <td>0.080000</td>\n",
       "      <td>0.000000</td>\n",
       "      <td>0.000000</td>\n",
       "      <td>55.120000</td>\n",
       "      <td>10.300000</td>\n",
       "      <td>0.000000</td>\n",
       "    </tr>\n",
       "    <tr>\n",
       "      <th>25%</th>\n",
       "      <td>25.000000</td>\n",
       "      <td>0.000000</td>\n",
       "      <td>0.000000</td>\n",
       "      <td>77.245000</td>\n",
       "      <td>23.500000</td>\n",
       "      <td>0.000000</td>\n",
       "    </tr>\n",
       "    <tr>\n",
       "      <th>50%</th>\n",
       "      <td>45.000000</td>\n",
       "      <td>0.000000</td>\n",
       "      <td>0.000000</td>\n",
       "      <td>91.885000</td>\n",
       "      <td>28.100000</td>\n",
       "      <td>0.000000</td>\n",
       "    </tr>\n",
       "    <tr>\n",
       "      <th>75%</th>\n",
       "      <td>61.000000</td>\n",
       "      <td>0.000000</td>\n",
       "      <td>0.000000</td>\n",
       "      <td>114.090000</td>\n",
       "      <td>33.100000</td>\n",
       "      <td>0.000000</td>\n",
       "    </tr>\n",
       "    <tr>\n",
       "      <th>max</th>\n",
       "      <td>82.000000</td>\n",
       "      <td>1.000000</td>\n",
       "      <td>1.000000</td>\n",
       "      <td>271.740000</td>\n",
       "      <td>97.600000</td>\n",
       "      <td>1.000000</td>\n",
       "    </tr>\n",
       "  </tbody>\n",
       "</table>\n",
       "</div>"
      ],
      "text/plain": [
       "               age  hypertension  heart_disease  avg_glucose_level  \\\n",
       "count  5110.000000   5110.000000    5110.000000        5110.000000   \n",
       "mean     43.226614      0.097456       0.054012         106.147677   \n",
       "std      22.612647      0.296607       0.226063          45.283560   \n",
       "min       0.080000      0.000000       0.000000          55.120000   \n",
       "25%      25.000000      0.000000       0.000000          77.245000   \n",
       "50%      45.000000      0.000000       0.000000          91.885000   \n",
       "75%      61.000000      0.000000       0.000000         114.090000   \n",
       "max      82.000000      1.000000       1.000000         271.740000   \n",
       "\n",
       "               bmi       stroke  \n",
       "count  4909.000000  5110.000000  \n",
       "mean     28.893237     0.048728  \n",
       "std       7.854067     0.215320  \n",
       "min      10.300000     0.000000  \n",
       "25%      23.500000     0.000000  \n",
       "50%      28.100000     0.000000  \n",
       "75%      33.100000     0.000000  \n",
       "max      97.600000     1.000000  "
      ]
     },
     "execution_count": 4,
     "metadata": {},
     "output_type": "execute_result"
    }
   ],
   "source": [
    "raw_data.describe()"
   ]
  },
  {
   "cell_type": "code",
   "execution_count": 5,
   "metadata": {
    "collapsed": false,
    "pycharm": {
     "name": "#%%\n"
    }
   },
   "outputs": [
    {
     "data": {
      "image/png": "[encoded data removed]",
      "text/plain": [
       "<Figure size 864x648 with 6 Axes>"
      ]
     },
     "metadata": {
      "needs_background": "light"
     },
     "output_type": "display_data"
    }
   ],
   "source": [
    "%matplotlib inline\r\n",
    "import matplotlib.pyplot as plt\r\n",
    "raw_data.hist(bins=50, figsize=(12,9))\r\n",
    "plt.show()"
   ]
  },
  {
   "cell_type": "markdown",
   "metadata": {},
   "source": [
    "**Kami melihat korelasi tiap fitur terhadap stroke label**"
   ]
  },
  {
   "cell_type": "code",
   "execution_count": 6,
   "metadata": {
    "collapsed": false,
    "pycharm": {
     "name": "#%%\n"
    }
   },
   "outputs": [
    {
     "data": {
      "text/plain": [
       "stroke               1.000000\n",
       "age                  0.245257\n",
       "heart_disease        0.134914\n",
       "avg_glucose_level    0.131945\n",
       "hypertension         0.127904\n",
       "bmi                  0.042374\n",
       "Name: stroke, dtype: float64"
      ]
     },
     "execution_count": 6,
     "metadata": {},
     "output_type": "execute_result"
    }
   ],
   "source": [
    "corr_matrix = raw_data.corr()\n",
    "corr_matrix['stroke'].sort_values(ascending=False)"
   ]
  },
  {
   "cell_type": "markdown",
   "metadata": {},
   "source": [
    "**Karena bmi memiliki korelasi yang cukup rendah, kami memutuskan untuk tidak memakai fitur ini.**\n"
   ]
  },
  {
   "cell_type": "code",
   "execution_count": 7,
   "metadata": {
    "collapsed": false,
    "pycharm": {
     "name": "#%%\n"
    }
   },
   "outputs": [],
   "source": [
    "stroke_features = raw_data.drop(['bmi', 'stroke'], axis=1)\n",
    "stroke_labels = raw_data['stroke'].copy()"
   ]
  },
  {
   "cell_type": "markdown",
   "metadata": {},
   "source": [
    "**Disini kelompok kami mengetahui bahwa stroke label memiliki ketidak seimbangan (imbalance class)**"
   ]
  },
  {
   "cell_type": "code",
   "execution_count": 8,
   "metadata": {
    "collapsed": false,
    "pycharm": {
     "name": "#%%\n"
    }
   },
   "outputs": [
    {
     "name": "stdout",
     "output_type": "stream",
     "text": [
      "0    4861\n",
      "1     249\n",
      "Name: stroke, dtype: int64\n",
      "ratio: 19.522088353413654:1.0\n"
     ]
    },
    {
     "data": {
      "text/plain": [
       "<AxesSubplot:>"
      ]
     },
     "execution_count": 8,
     "metadata": {},
     "output_type": "execute_result"
    },
    {
     "data": {
      "image/png": "[encoded data removed]",
      "text/plain": [
       "<Figure size 432x288 with 1 Axes>"
      ]
     },
     "metadata": {
      "needs_background": "light"
     },
     "output_type": "display_data"
    }
   ],
   "source": [
    "class_count = raw_data['stroke'].value_counts()\n",
    "\n",
    "print(class_count)\n",
    "print('ratio: ' + str(class_count[0]/class_count[1]) + ':' + str(class_count[1]/class_count[1]))\n",
    "\n",
    "raw_data['stroke'].hist()\n"
   ]
  },
  {
   "cell_type": "markdown",
   "metadata": {},
   "source": [
    "**Kami melakukan encoding terhadap fitur yang memiliki value berupa string**"
   ]
  },
  {
   "cell_type": "code",
   "execution_count": 9,
   "metadata": {
    "collapsed": false,
    "pycharm": {
     "name": "#%%\n"
    }
   },
   "outputs": [],
   "source": [
    "from sklearn.preprocessing import OrdinalEncoder\n",
    "\n",
    "scaler = OrdinalEncoder()\n",
    "smote_features = scaler.fit_transform(stroke_features[['gender', 'ever_married', 'work_type', 'Residence_type', 'smoking_status']])"
   ]
  },
  {
   "cell_type": "code",
   "execution_count": 10,
   "metadata": {
    "collapsed": false,
    "pycharm": {
     "name": "#%%\n"
    }
   },
   "outputs": [],
   "source": [
    "stroke_features[['gender', 'ever_married', 'work_type', 'Residence_type', 'smoking_status']] = smote_features"
   ]
  },
  {
   "cell_type": "code",
   "execution_count": 11,
   "metadata": {
    "collapsed": false,
    "pycharm": {
     "name": "#%%\n"
    }
   },
   "outputs": [
    {
     "data": {
      "text/html": [
       "<div>\n",
       "<style scoped>\n",
       "    .dataframe tbody tr th:only-of-type {\n",
       "        vertical-align: middle;\n",
       "    }\n",
       "\n",
       "    .dataframe tbody tr th {\n",
       "        vertical-align: top;\n",
       "    }\n",
       "\n",
       "    .dataframe thead th {\n",
       "        text-align: right;\n",
       "    }\n",
       "</style>\n",
       "<table border=\"1\" class=\"dataframe\">\n",
       "  <thead>\n",
       "    <tr style=\"text-align: right;\">\n",
       "      <th></th>\n",
       "      <th>gender</th>\n",
       "      <th>age</th>\n",
       "      <th>hypertension</th>\n",
       "      <th>heart_disease</th>\n",
       "      <th>ever_married</th>\n",
       "      <th>work_type</th>\n",
       "      <th>Residence_type</th>\n",
       "      <th>avg_glucose_level</th>\n",
       "      <th>smoking_status</th>\n",
       "    </tr>\n",
       "  </thead>\n",
       "  <tbody>\n",
       "    <tr>\n",
       "      <th>0</th>\n",
       "      <td>1.0</td>\n",
       "      <td>67.0</td>\n",
       "      <td>0</td>\n",
       "      <td>1</td>\n",
       "      <td>1.0</td>\n",
       "      <td>2.0</td>\n",
       "      <td>1.0</td>\n",
       "      <td>228.69</td>\n",
       "      <td>1.0</td>\n",
       "    </tr>\n",
       "    <tr>\n",
       "      <th>1</th>\n",
       "      <td>0.0</td>\n",
       "      <td>61.0</td>\n",
       "      <td>0</td>\n",
       "      <td>0</td>\n",
       "      <td>1.0</td>\n",
       "      <td>3.0</td>\n",
       "      <td>0.0</td>\n",
       "      <td>202.21</td>\n",
       "      <td>2.0</td>\n",
       "    </tr>\n",
       "    <tr>\n",
       "      <th>2</th>\n",
       "      <td>1.0</td>\n",
       "      <td>80.0</td>\n",
       "      <td>0</td>\n",
       "      <td>1</td>\n",
       "      <td>1.0</td>\n",
       "      <td>2.0</td>\n",
       "      <td>0.0</td>\n",
       "      <td>105.92</td>\n",
       "      <td>2.0</td>\n",
       "    </tr>\n",
       "    <tr>\n",
       "      <th>3</th>\n",
       "      <td>0.0</td>\n",
       "      <td>49.0</td>\n",
       "      <td>0</td>\n",
       "      <td>0</td>\n",
       "      <td>1.0</td>\n",
       "      <td>2.0</td>\n",
       "      <td>1.0</td>\n",
       "      <td>171.23</td>\n",
       "      <td>3.0</td>\n",
       "    </tr>\n",
       "    <tr>\n",
       "      <th>4</th>\n",
       "      <td>0.0</td>\n",
       "      <td>79.0</td>\n",
       "      <td>1</td>\n",
       "      <td>0</td>\n",
       "      <td>1.0</td>\n",
       "      <td>3.0</td>\n",
       "      <td>0.0</td>\n",
       "      <td>174.12</td>\n",
       "      <td>2.0</td>\n",
       "    </tr>\n",
       "    <tr>\n",
       "      <th>...</th>\n",
       "      <td>...</td>\n",
       "      <td>...</td>\n",
       "      <td>...</td>\n",
       "      <td>...</td>\n",
       "      <td>...</td>\n",
       "      <td>...</td>\n",
       "      <td>...</td>\n",
       "      <td>...</td>\n",
       "      <td>...</td>\n",
       "    </tr>\n",
       "    <tr>\n",
       "      <th>5105</th>\n",
       "      <td>0.0</td>\n",
       "      <td>80.0</td>\n",
       "      <td>1</td>\n",
       "      <td>0</td>\n",
       "      <td>1.0</td>\n",
       "      <td>2.0</td>\n",
       "      <td>1.0</td>\n",
       "      <td>83.75</td>\n",
       "      <td>2.0</td>\n",
       "    </tr>\n",
       "    <tr>\n",
       "      <th>5106</th>\n",
       "      <td>0.0</td>\n",
       "      <td>81.0</td>\n",
       "      <td>0</td>\n",
       "      <td>0</td>\n",
       "      <td>1.0</td>\n",
       "      <td>3.0</td>\n",
       "      <td>1.0</td>\n",
       "      <td>125.20</td>\n",
       "      <td>2.0</td>\n",
       "    </tr>\n",
       "    <tr>\n",
       "      <th>5107</th>\n",
       "      <td>0.0</td>\n",
       "      <td>35.0</td>\n",
       "      <td>0</td>\n",
       "      <td>0</td>\n",
       "      <td>1.0</td>\n",
       "      <td>3.0</td>\n",
       "      <td>0.0</td>\n",
       "      <td>82.99</td>\n",
       "      <td>2.0</td>\n",
       "    </tr>\n",
       "    <tr>\n",
       "      <th>5108</th>\n",
       "      <td>1.0</td>\n",
       "      <td>51.0</td>\n",
       "      <td>0</td>\n",
       "      <td>0</td>\n",
       "      <td>1.0</td>\n",
       "      <td>2.0</td>\n",
       "      <td>0.0</td>\n",
       "      <td>166.29</td>\n",
       "      <td>1.0</td>\n",
       "    </tr>\n",
       "    <tr>\n",
       "      <th>5109</th>\n",
       "      <td>0.0</td>\n",
       "      <td>44.0</td>\n",
       "      <td>0</td>\n",
       "      <td>0</td>\n",
       "      <td>1.0</td>\n",
       "      <td>0.0</td>\n",
       "      <td>1.0</td>\n",
       "      <td>85.28</td>\n",
       "      <td>0.0</td>\n",
       "    </tr>\n",
       "  </tbody>\n",
       "</table>\n",
       "<p>5110 rows × 9 columns</p>\n",
       "</div>"
      ],
      "text/plain": [
       "      gender   age  hypertension  heart_disease  ever_married  work_type  \\\n",
       "0        1.0  67.0             0              1           1.0        2.0   \n",
       "1        0.0  61.0             0              0           1.0        3.0   \n",
       "2        1.0  80.0             0              1           1.0        2.0   \n",
       "3        0.0  49.0             0              0           1.0        2.0   \n",
       "4        0.0  79.0             1              0           1.0        3.0   \n",
       "...      ...   ...           ...            ...           ...        ...   \n",
       "5105     0.0  80.0             1              0           1.0        2.0   \n",
       "5106     0.0  81.0             0              0           1.0        3.0   \n",
       "5107     0.0  35.0             0              0           1.0        3.0   \n",
       "5108     1.0  51.0             0              0           1.0        2.0   \n",
       "5109     0.0  44.0             0              0           1.0        0.0   \n",
       "\n",
       "      Residence_type  avg_glucose_level  smoking_status  \n",
       "0                1.0             228.69             1.0  \n",
       "1                0.0             202.21             2.0  \n",
       "2                0.0             105.92             2.0  \n",
       "3                1.0             171.23             3.0  \n",
       "4                0.0             174.12             2.0  \n",
       "...              ...                ...             ...  \n",
       "5105             1.0              83.75             2.0  \n",
       "5106             1.0             125.20             2.0  \n",
       "5107             0.0              82.99             2.0  \n",
       "5108             0.0             166.29             1.0  \n",
       "5109             1.0              85.28             0.0  \n",
       "\n",
       "[5110 rows x 9 columns]"
      ]
     },
     "execution_count": 11,
     "metadata": {},
     "output_type": "execute_result"
    }
   ],
   "source": [
    "stroke_features"
   ]
  },
  {
   "cell_type": "markdown",
   "metadata": {},
   "source": [
    "**Sesuai dengan penjelasan yang kami berikan pada presentasi, kami menerapkan SMOTE untuk mengatasi permasalahan imbalanced class pada label kami.**"
   ]
  },
  {
   "cell_type": "code",
   "execution_count": 12,
   "metadata": {
    "collapsed": false,
    "pycharm": {
     "name": "#%%\n"
    }
   },
   "outputs": [],
   "source": [
    "from imblearn.over_sampling import SMOTE\n",
    "\n",
    "smote = SMOTE()\n",
    "stroke_features, stroke_labels = smote.fit_resample(stroke_features, stroke_labels)"
   ]
  },
  {
   "cell_type": "markdown",
   "metadata": {},
   "source": [
    "**Disini kami mengetahui bahwa SMOTE telah berhasil melakukan oversampling terhadap stroke label.**"
   ]
  },
  {
   "cell_type": "code",
   "execution_count": 13,
   "metadata": {},
   "outputs": [
    {
     "name": "stdout",
     "output_type": "stream",
     "text": [
      "0    4861\n",
      "1    4861\n",
      "Name: stroke, dtype: int64\n",
      "ratio: 1.0:1.0\n"
     ]
    },
    {
     "data": {
      "text/plain": [
       "<AxesSubplot:>"
      ]
     },
     "execution_count": 13,
     "metadata": {},
     "output_type": "execute_result"
    },
    {
     "data": {
      "image/png": "[encoded data removed]",
      "text/plain": [
       "<Figure size 432x288 with 1 Axes>"
      ]
     },
     "metadata": {
      "needs_background": "light"
     },
     "output_type": "display_data"
    }
   ],
   "source": [
    "class_count = stroke_labels.value_counts()\n",
    "\n",
    "print(class_count)\n",
    "print('ratio: ' + str(class_count[0]/class_count[1]) + ':' + str(class_count[1]/class_count[1]))\n",
    "\n",
    "stroke_labels.hist()"
   ]
  },
  {
   "cell_type": "markdown",
   "metadata": {},
   "source": [
    "**Kami melakukan pengecekkan kembali apakah dataset yang kami miliki masih memiliki null values atau tidak.**\n"
   ]
  },
  {
   "cell_type": "code",
   "execution_count": 14,
   "metadata": {
    "collapsed": false,
    "pycharm": {
     "name": "#%%\n"
    }
   },
   "outputs": [
    {
     "data": {
      "text/plain": [
       "gender               9722\n",
       "age                  9722\n",
       "hypertension         9722\n",
       "heart_disease        9722\n",
       "ever_married         9722\n",
       "work_type            9722\n",
       "Residence_type       9722\n",
       "avg_glucose_level    9722\n",
       "smoking_status       9722\n",
       "dtype: int64"
      ]
     },
     "execution_count": 14,
     "metadata": {},
     "output_type": "execute_result"
    }
   ],
   "source": [
    "stroke_features.isnull().count()"
   ]
  },
  {
   "cell_type": "code",
   "execution_count": 15,
   "metadata": {
    "collapsed": false,
    "pycharm": {
     "name": "#%%\n"
    }
   },
   "outputs": [
    {
     "name": "stdout",
     "output_type": "stream",
     "text": [
      "<class 'pandas.core.frame.DataFrame'>\n",
      "RangeIndex: 9722 entries, 0 to 9721\n",
      "Data columns (total 9 columns):\n",
      " #   Column             Non-Null Count  Dtype  \n",
      "---  ------             --------------  -----  \n",
      " 0   gender             9722 non-null   float64\n",
      " 1   age                9722 non-null   float64\n",
      " 2   hypertension       9722 non-null   int64  \n",
      " 3   heart_disease      9722 non-null   int64  \n",
      " 4   ever_married       9722 non-null   float64\n",
      " 5   work_type          9722 non-null   float64\n",
      " 6   Residence_type     9722 non-null   float64\n",
      " 7   avg_glucose_level  9722 non-null   float64\n",
      " 8   smoking_status     9722 non-null   float64\n",
      "dtypes: float64(7), int64(2)\n",
      "memory usage: 683.7 KB\n"
     ]
    }
   ],
   "source": [
    "stroke_features.info()"
   ]
  },
  {
   "cell_type": "markdown",
   "metadata": {},
   "source": [
    "**Kami melakukan splitting dataset untuk membagi dataset menjadi train dan test dengan ratio 8 : 2.**"
   ]
  },
  {
   "cell_type": "code",
   "execution_count": 16,
   "metadata": {
    "collapsed": false,
    "pycharm": {
     "name": "#%%\n"
    }
   },
   "outputs": [],
   "source": [
    "from sklearn.model_selection import train_test_split\n",
    "\n",
    "X_train, X_test, y_train, y_test = train_test_split(stroke_features, stroke_labels, random_state=22, test_size=0.2)\n",
    "\n",
    "from sklearn.preprocessing import StandardScaler\n",
    "\n",
    "std_scaler = StandardScaler()\n",
    "X_train = std_scaler.fit_transform(X_train)"
   ]
  },
  {
   "cell_type": "markdown",
   "metadata": {},
   "source": [
    "# TRAINING"
   ]
  },
  {
   "cell_type": "markdown",
   "metadata": {},
   "source": [
    "# 1st Method: Support Vector Machine - Classifier (SVC)"
   ]
  },
  {
   "cell_type": "code",
   "execution_count": 17,
   "metadata": {
    "collapsed": false,
    "pycharm": {
     "name": "#%%\n"
    }
   },
   "outputs": [
    {
     "data": {
      "text/plain": [
       "SVC(gamma='auto', random_state=22)"
      ]
     },
     "execution_count": 17,
     "metadata": {},
     "output_type": "execute_result"
    }
   ],
   "source": [
    "from sklearn.svm import SVC\n",
    "\n",
    "svc_clf = SVC(gamma='auto', random_state=22)\n",
    "svc_clf.fit(X_train, y_train)"
   ]
  },
  {
   "cell_type": "code",
   "execution_count": 18,
   "metadata": {},
   "outputs": [],
   "source": [
    "X_test = std_scaler.transform(X_test)"
   ]
  },
  {
   "cell_type": "code",
   "execution_count": 19,
   "metadata": {
    "collapsed": false,
    "pycharm": {
     "name": "#%%\n"
    }
   },
   "outputs": [
    {
     "name": "stdout",
     "output_type": "stream",
     "text": [
      "0.8745501285347044\n",
      "0.8677248677248677\n",
      "0.873269435569755\n",
      "0.870488322717622\n"
     ]
    },
    {
     "data": {
      "text/plain": [
       "array([0.92039494, 0.91082999, 0.91234568])"
      ]
     },
     "execution_count": 19,
     "metadata": {},
     "output_type": "execute_result"
    }
   ],
   "source": [
    "from sklearn.model_selection import cross_val_score\n",
    "from sklearn.metrics import accuracy_score, precision_score, recall_score, f1_score\n",
    "\n",
    "predictions_test = svc_clf.predict(X_test)\n",
    "\n",
    "print(accuracy_score(y_test, predictions_test))\n",
    "print(precision_score(y_test, predictions_test))\n",
    "print(recall_score(y_test, predictions_test))\n",
    "print(f1_score(y_test, predictions_test))\n",
    "\n",
    "cross_val_score(svc_clf, stroke_features, stroke_labels, cv=3, scoring='accuracy')"
   ]
  },
  {
   "cell_type": "code",
   "execution_count": 20,
   "metadata": {
    "collapsed": false,
    "pycharm": {
     "name": "#%%\n"
    }
   },
   "outputs": [
    {
     "data": {
      "text/plain": [
       "<sklearn.metrics._plot.confusion_matrix.ConfusionMatrixDisplay at 0x1dd9be4dac8>"
      ]
     },
     "execution_count": 20,
     "metadata": {},
     "output_type": "execute_result"
    },
    {
     "data": {
      "image/png": "[encoded data removed]",
      "text/plain": [
       "<Figure size 432x288 with 2 Axes>"
      ]
     },
     "metadata": {
      "needs_background": "light"
     },
     "output_type": "display_data"
    }
   ],
   "source": [
    "from sklearn.metrics import plot_confusion_matrix\n",
    "\n",
    "predictions_test = svc_clf.predict(X_test)\n",
    "plot_confusion_matrix(svc_clf, X_test, y_test)"
   ]
  },
  {
   "cell_type": "markdown",
   "metadata": {},
   "source": [
    "# 2nd Method: Feedforward Neural Network (FNN)"
   ]
  },
  {
   "cell_type": "code",
   "execution_count": 21,
   "metadata": {
    "collapsed": false,
    "pycharm": {
     "name": "#%%\n"
    }
   },
   "outputs": [],
   "source": [
    "from tensorflow import keras\r\n",
    "\r\n",
    "model = keras.models.Sequential([\r\n",
    "    keras.layers.Dense(128, activation=keras.activations.relu, input_shape=[9]),\r\n",
    "    keras.layers.Dense(128, activation=keras.activations.relu),\r\n",
    "    keras.layers.Dense(128, activation=keras.activations.relu),\r\n",
    "    keras.layers.Dense(1, activation=keras.activations.sigmoid)\r\n",
    "])"
   ]
  },
  {
   "cell_type": "code",
   "execution_count": 22,
   "metadata": {
    "collapsed": false,
    "pycharm": {
     "name": "#%%\n"
    }
   },
   "outputs": [],
   "source": [
    "model.compile(loss=keras.losses.binary_crossentropy,\n",
    "              optimizer=keras.optimizers.Adam(learning_rate=0.01),\n",
    "              metrics=[keras.metrics.Recall()])"
   ]
  },
  {
   "cell_type": "code",
   "execution_count": 23,
   "metadata": {},
   "outputs": [],
   "source": [
    "checkpoint_filepath = './Model/bestModel'\r\n",
    "model_checkpoint_callback = keras.callbacks.ModelCheckpoint(\r\n",
    "    filepath=checkpoint_filepath,\r\n",
    "    save_weights_only=True,\r\n",
    "    monitor='loss',\r\n",
    "    mode='max',\r\n",
    "    save_best_only=True)"
   ]
  },
  {
   "cell_type": "code",
   "execution_count": 24,
   "metadata": {
    "collapsed": false,
    "pycharm": {
     "name": "#%%\n"
    }
   },
   "outputs": [
    {
     "name": "stdout",
     "output_type": "stream",
     "text": [
      "Epoch 1/500\n",
      "244/244 [==============================] - 1s 1ms/step - loss: 0.4772 - recall: 0.7948\n",
      "Epoch 2/500\n",
      "244/244 [==============================] - 0s 1ms/step - loss: 0.3948 - recall: 0.8738\n",
      "Epoch 3/500\n",
      "244/244 [==============================] - 0s 1ms/step - loss: 0.3227 - recall: 0.8698\n",
      "Epoch 4/500\n",
      "244/244 [==============================] - 0s 1ms/step - loss: 0.3069 - recall: 0.8678\n",
      "Epoch 5/500\n",
      "244/244 [==============================] - 0s 1ms/step - loss: 0.3006 - recall: 0.8658\n",
      "Epoch 6/500\n",
      "244/244 [==============================] - 0s 1ms/step - loss: 0.2923 - recall: 0.8887\n",
      "Epoch 7/500\n",
      "244/244 [==============================] - 0s 1ms/step - loss: 0.2647 - recall: 0.8796\n",
      "Epoch 8/500\n",
      "244/244 [==============================] - 0s 1ms/step - loss: 0.2673 - recall: 0.8815\n",
      "Epoch 9/500\n",
      "244/244 [==============================] - 0s 1ms/step - loss: 0.2521 - recall: 0.8900\n",
      "Epoch 10/500\n",
      "244/244 [==============================] - 0s 1ms/step - loss: 0.2515 - recall: 0.8935\n",
      "Epoch 11/500\n",
      "244/244 [==============================] - 0s 1ms/step - loss: 0.2343 - recall: 0.9089\n",
      "Epoch 12/500\n",
      "244/244 [==============================] - 0s 1ms/step - loss: 0.2690 - recall: 0.8775\n",
      "Epoch 13/500\n",
      "244/244 [==============================] - 0s 1ms/step - loss: 0.2303 - recall: 0.9054\n",
      "Epoch 14/500\n",
      "244/244 [==============================] - 0s 1ms/step - loss: 0.2244 - recall: 0.9017\n",
      "Epoch 15/500\n",
      "244/244 [==============================] - 0s 1ms/step - loss: 0.2412 - recall: 0.8986\n",
      "Epoch 16/500\n",
      "244/244 [==============================] - 0s 1ms/step - loss: 0.2199 - recall: 0.9059\n",
      "Epoch 17/500\n",
      "244/244 [==============================] - 0s 1ms/step - loss: 0.2186 - recall: 0.9109\n",
      "Epoch 18/500\n",
      "244/244 [==============================] - 0s 1ms/step - loss: 0.2224 - recall: 0.9082\n",
      "Epoch 19/500\n",
      "244/244 [==============================] - 0s 1ms/step - loss: 0.2110 - recall: 0.9201\n",
      "Epoch 20/500\n",
      "244/244 [==============================] - 0s 1ms/step - loss: 0.2107 - recall: 0.9036\n",
      "Epoch 21/500\n",
      "244/244 [==============================] - 0s 1ms/step - loss: 0.2142 - recall: 0.9161\n",
      "Epoch 22/500\n",
      "244/244 [==============================] - 0s 1ms/step - loss: 0.2005 - recall: 0.9166\n",
      "Epoch 23/500\n",
      "244/244 [==============================] - 0s 2ms/step - loss: 0.1995 - recall: 0.9178\n",
      "Epoch 24/500\n",
      "244/244 [==============================] - 0s 1ms/step - loss: 0.1917 - recall: 0.9183\n",
      "Epoch 25/500\n",
      "244/244 [==============================] - 0s 1ms/step - loss: 0.1937 - recall: 0.9192\n",
      "Epoch 26/500\n",
      "244/244 [==============================] - 0s 1ms/step - loss: 0.1968 - recall: 0.9304\n",
      "Epoch 27/500\n",
      "244/244 [==============================] - 0s 1ms/step - loss: 0.1921 - recall: 0.9281\n",
      "Epoch 28/500\n",
      "244/244 [==============================] - 0s 1ms/step - loss: 0.1930 - recall: 0.9320\n",
      "Epoch 29/500\n",
      "244/244 [==============================] - 0s 1ms/step - loss: 0.1787 - recall: 0.9329\n",
      "Epoch 30/500\n",
      "244/244 [==============================] - 0s 1ms/step - loss: 0.1698 - recall: 0.9337\n",
      "Epoch 31/500\n",
      "244/244 [==============================] - 0s 1ms/step - loss: 0.1835 - recall: 0.9274\n",
      "Epoch 32/500\n",
      "244/244 [==============================] - 0s 1ms/step - loss: 0.1704 - recall: 0.9228\n",
      "Epoch 33/500\n",
      "244/244 [==============================] - 0s 1ms/step - loss: 0.1722 - recall: 0.9236\n",
      "Epoch 34/500\n",
      "244/244 [==============================] - 0s 1ms/step - loss: 0.1732 - recall: 0.9342\n",
      "Epoch 35/500\n",
      "244/244 [==============================] - 0s 2ms/step - loss: 0.1708 - recall: 0.9256\n",
      "Epoch 36/500\n",
      "244/244 [==============================] - 0s 1ms/step - loss: 0.1580 - recall: 0.9413\n",
      "Epoch 37/500\n",
      "244/244 [==============================] - 0s 1ms/step - loss: 0.1588 - recall: 0.9377\n",
      "Epoch 38/500\n",
      "244/244 [==============================] - 0s 1ms/step - loss: 0.1665 - recall: 0.9316\n",
      "Epoch 39/500\n",
      "244/244 [==============================] - 0s 1ms/step - loss: 0.1565 - recall: 0.9352\n",
      "Epoch 40/500\n",
      "244/244 [==============================] - 0s 1ms/step - loss: 0.1576 - recall: 0.9331\n",
      "Epoch 41/500\n",
      "244/244 [==============================] - 0s 1ms/step - loss: 0.1743 - recall: 0.9271\n",
      "Epoch 42/500\n",
      "244/244 [==============================] - 0s 1ms/step - loss: 0.1577 - recall: 0.9327\n",
      "Epoch 43/500\n",
      "244/244 [==============================] - 0s 1ms/step - loss: 0.1529 - recall: 0.9377\n",
      "Epoch 44/500\n",
      "244/244 [==============================] - 0s 1ms/step - loss: 0.1488 - recall: 0.9397\n",
      "Epoch 45/500\n",
      "244/244 [==============================] - 0s 1ms/step - loss: 0.1590 - recall: 0.9419\n",
      "Epoch 46/500\n",
      "244/244 [==============================] - 0s 1ms/step - loss: 0.1902 - recall: 0.9340\n",
      "Epoch 47/500\n",
      "244/244 [==============================] - 0s 1ms/step - loss: 0.1684 - recall: 0.9287\n",
      "Epoch 48/500\n",
      "244/244 [==============================] - 0s 1ms/step - loss: 0.1539 - recall: 0.9333\n",
      "Epoch 49/500\n",
      "244/244 [==============================] - 0s 1ms/step - loss: 0.1695 - recall: 0.9375\n",
      "Epoch 50/500\n",
      "244/244 [==============================] - 0s 1ms/step - loss: 0.1437 - recall: 0.9471\n",
      "Epoch 51/500\n",
      "244/244 [==============================] - 0s 1ms/step - loss: 0.1360 - recall: 0.9478\n",
      "Epoch 52/500\n",
      "244/244 [==============================] - 0s 1ms/step - loss: 0.1439 - recall: 0.9437\n",
      "Epoch 53/500\n",
      "244/244 [==============================] - 0s 1ms/step - loss: 0.1370 - recall: 0.9486\n",
      "Epoch 54/500\n",
      "244/244 [==============================] - 0s 1ms/step - loss: 0.1444 - recall: 0.9371\n",
      "Epoch 55/500\n",
      "244/244 [==============================] - 0s 1ms/step - loss: 0.1490 - recall: 0.9389\n",
      "Epoch 56/500\n",
      "244/244 [==============================] - 0s 1ms/step - loss: 0.1373 - recall: 0.9471\n",
      "Epoch 57/500\n",
      "244/244 [==============================] - 0s 2ms/step - loss: 0.1359 - recall: 0.9460\n",
      "Epoch 58/500\n",
      "244/244 [==============================] - 0s 1ms/step - loss: 0.1379 - recall: 0.9515\n",
      "Epoch 59/500\n",
      "244/244 [==============================] - 0s 1ms/step - loss: 0.1357 - recall: 0.9535\n",
      "Epoch 60/500\n",
      "244/244 [==============================] - 0s 2ms/step - loss: 0.1432 - recall: 0.9463\n",
      "Epoch 61/500\n",
      "244/244 [==============================] - 0s 2ms/step - loss: 0.1268 - recall: 0.9479\n",
      "Epoch 62/500\n",
      "244/244 [==============================] - 0s 2ms/step - loss: 0.1461 - recall: 0.9498\n",
      "Epoch 63/500\n",
      "244/244 [==============================] - 0s 1ms/step - loss: 0.1333 - recall: 0.9479\n",
      "Epoch 64/500\n",
      "244/244 [==============================] - 0s 2ms/step - loss: 0.1293 - recall: 0.9494\n",
      "Epoch 65/500\n",
      "244/244 [==============================] - 0s 1ms/step - loss: 0.1656 - recall: 0.9352\n",
      "Epoch 66/500\n",
      "244/244 [==============================] - 0s 1ms/step - loss: 0.1466 - recall: 0.9444\n",
      "Epoch 67/500\n",
      "244/244 [==============================] - 0s 2ms/step - loss: 0.1334 - recall: 0.9482\n",
      "Epoch 68/500\n",
      "244/244 [==============================] - 0s 1ms/step - loss: 0.1443 - recall: 0.9519\n",
      "Epoch 69/500\n",
      "244/244 [==============================] - 0s 2ms/step - loss: 0.1281 - recall: 0.9535\n",
      "Epoch 70/500\n",
      "244/244 [==============================] - 1s 2ms/step - loss: 0.1250 - recall: 0.9583\n",
      "Epoch 71/500\n",
      "244/244 [==============================] - 1s 2ms/step - loss: 0.1198 - recall: 0.9544\n",
      "Epoch 72/500\n",
      "244/244 [==============================] - 1s 3ms/step - loss: 0.1218 - recall: 0.9583\n",
      "Epoch 73/500\n",
      "244/244 [==============================] - 0s 1ms/step - loss: 0.1190 - recall: 0.9596\n",
      "Epoch 74/500\n",
      "244/244 [==============================] - 0s 1ms/step - loss: 0.1250 - recall: 0.9573\n",
      "Epoch 75/500\n",
      "244/244 [==============================] - 0s 1ms/step - loss: 0.1155 - recall: 0.9590\n",
      "Epoch 76/500\n",
      "244/244 [==============================] - 0s 1ms/step - loss: 0.1316 - recall: 0.9508\n",
      "Epoch 77/500\n",
      "244/244 [==============================] - 0s 1ms/step - loss: 0.1201 - recall: 0.9511\n",
      "Epoch 78/500\n",
      "244/244 [==============================] - 0s 1ms/step - loss: 0.1164 - recall: 0.9609\n",
      "Epoch 79/500\n",
      "244/244 [==============================] - 0s 1ms/step - loss: 0.1189 - recall: 0.9618\n",
      "Epoch 80/500\n",
      "244/244 [==============================] - 0s 1ms/step - loss: 0.1076 - recall: 0.9607\n",
      "Epoch 81/500\n",
      "244/244 [==============================] - 0s 1ms/step - loss: 0.1507 - recall: 0.9367\n",
      "Epoch 82/500\n",
      "244/244 [==============================] - 0s 1ms/step - loss: 0.1605 - recall: 0.9447\n",
      "Epoch 83/500\n",
      "244/244 [==============================] - 0s 1ms/step - loss: 0.1211 - recall: 0.9542\n",
      "Epoch 84/500\n",
      "244/244 [==============================] - 0s 1ms/step - loss: 0.1206 - recall: 0.9576\n",
      "Epoch 85/500\n",
      "244/244 [==============================] - 0s 1ms/step - loss: 0.1154 - recall: 0.9575\n",
      "Epoch 86/500\n",
      "244/244 [==============================] - 0s 1ms/step - loss: 0.1177 - recall: 0.9559\n",
      "Epoch 87/500\n",
      "244/244 [==============================] - 0s 1ms/step - loss: 0.1103 - recall: 0.9598\n",
      "Epoch 88/500\n",
      "244/244 [==============================] - 0s 1ms/step - loss: 0.1309 - recall: 0.9482\n",
      "Epoch 89/500\n",
      "244/244 [==============================] - 0s 2ms/step - loss: 0.1245 - recall: 0.9555\n",
      "Epoch 90/500\n",
      "244/244 [==============================] - 0s 2ms/step - loss: 0.1084 - recall: 0.9653\n",
      "Epoch 91/500\n",
      "244/244 [==============================] - 0s 2ms/step - loss: 0.1078 - recall: 0.9675\n",
      "Epoch 92/500\n",
      "244/244 [==============================] - 0s 1ms/step - loss: 0.1017 - recall: 0.9645\n",
      "Epoch 93/500\n",
      "244/244 [==============================] - 0s 1ms/step - loss: 0.1123 - recall: 0.9643\n",
      "Epoch 94/500\n",
      "244/244 [==============================] - 0s 2ms/step - loss: 0.0980 - recall: 0.9657\n",
      "Epoch 95/500\n",
      "244/244 [==============================] - 0s 2ms/step - loss: 0.1095 - recall: 0.9620\n",
      "Epoch 96/500\n",
      "244/244 [==============================] - 0s 1ms/step - loss: 0.0990 - recall: 0.9671\n",
      "Epoch 97/500\n",
      "244/244 [==============================] - 0s 2ms/step - loss: 0.1016 - recall: 0.9656\n",
      "Epoch 98/500\n",
      "244/244 [==============================] - 0s 1ms/step - loss: 0.1015 - recall: 0.9612\n",
      "Epoch 99/500\n",
      "244/244 [==============================] - 0s 1ms/step - loss: 0.1007 - recall: 0.9660\n",
      "Epoch 100/500\n",
      "244/244 [==============================] - 0s 1ms/step - loss: 0.1009 - recall: 0.9660\n",
      "Epoch 101/500\n",
      "244/244 [==============================] - 0s 1ms/step - loss: 0.1092 - recall: 0.9603\n",
      "Epoch 102/500\n",
      "244/244 [==============================] - 0s 1ms/step - loss: 0.0972 - recall: 0.9728\n",
      "Epoch 103/500\n",
      "244/244 [==============================] - 0s 1ms/step - loss: 0.1019 - recall: 0.9669\n",
      "Epoch 104/500\n",
      "244/244 [==============================] - 0s 1ms/step - loss: 0.1185 - recall: 0.9610\n",
      "Epoch 105/500\n",
      "244/244 [==============================] - 0s 1ms/step - loss: 0.0987 - recall: 0.9661\n",
      "Epoch 106/500\n",
      "244/244 [==============================] - 0s 1ms/step - loss: 0.1012 - recall: 0.9674\n",
      "Epoch 107/500\n",
      "244/244 [==============================] - 0s 1ms/step - loss: 0.0915 - recall: 0.9721\n",
      "Epoch 108/500\n",
      "244/244 [==============================] - 0s 1ms/step - loss: 0.1022 - recall: 0.9679\n",
      "Epoch 109/500\n",
      "244/244 [==============================] - 0s 1ms/step - loss: 0.1047 - recall: 0.9631\n",
      "Epoch 110/500\n",
      "244/244 [==============================] - 0s 1ms/step - loss: 0.1067 - recall: 0.9685\n",
      "Epoch 111/500\n",
      "244/244 [==============================] - 0s 1ms/step - loss: 0.1058 - recall: 0.9645\n",
      "Epoch 112/500\n",
      "244/244 [==============================] - 0s 1ms/step - loss: 0.1518 - recall: 0.9714\n",
      "Epoch 113/500\n",
      "244/244 [==============================] - 0s 1ms/step - loss: 0.1087 - recall: 0.9634\n",
      "Epoch 114/500\n",
      "244/244 [==============================] - 0s 1ms/step - loss: 0.1138 - recall: 0.9632\n",
      "Epoch 115/500\n",
      "244/244 [==============================] - 0s 1ms/step - loss: 0.1414 - recall: 0.9437\n",
      "Epoch 116/500\n",
      "244/244 [==============================] - 0s 1ms/step - loss: 0.1085 - recall: 0.9715\n",
      "Epoch 117/500\n",
      "244/244 [==============================] - 0s 1ms/step - loss: 0.0989 - recall: 0.9614\n",
      "Epoch 118/500\n",
      "244/244 [==============================] - 0s 1ms/step - loss: 0.0899 - recall: 0.9723\n",
      "Epoch 119/500\n",
      "244/244 [==============================] - 0s 1ms/step - loss: 0.0905 - recall: 0.9682\n",
      "Epoch 120/500\n",
      "244/244 [==============================] - 0s 2ms/step - loss: 0.0812 - recall: 0.9755\n",
      "Epoch 121/500\n",
      "244/244 [==============================] - 0s 1ms/step - loss: 0.0908 - recall: 0.9664\n",
      "Epoch 122/500\n",
      "244/244 [==============================] - 0s 1ms/step - loss: 0.1018 - recall: 0.9650\n",
      "Epoch 123/500\n",
      "244/244 [==============================] - 0s 2ms/step - loss: 0.1053 - recall: 0.9671\n",
      "Epoch 124/500\n",
      "244/244 [==============================] - 0s 2ms/step - loss: 0.1134 - recall: 0.9570\n",
      "Epoch 125/500\n",
      "244/244 [==============================] - 0s 2ms/step - loss: 0.0949 - recall: 0.9725\n",
      "Epoch 126/500\n",
      "244/244 [==============================] - 0s 1ms/step - loss: 0.1315 - recall: 0.9555\n",
      "Epoch 127/500\n",
      "244/244 [==============================] - 0s 1ms/step - loss: 0.1289 - recall: 0.9621\n",
      "Epoch 128/500\n",
      "244/244 [==============================] - 0s 1ms/step - loss: 0.1075 - recall: 0.9706\n",
      "Epoch 129/500\n",
      "244/244 [==============================] - 0s 1ms/step - loss: 0.1009 - recall: 0.9743\n",
      "Epoch 130/500\n",
      "244/244 [==============================] - 0s 1ms/step - loss: 0.0924 - recall: 0.9722\n",
      "Epoch 131/500\n",
      "244/244 [==============================] - 0s 1ms/step - loss: 0.0954 - recall: 0.9751\n",
      "Epoch 132/500\n",
      "244/244 [==============================] - 0s 1ms/step - loss: 0.0949 - recall: 0.9675\n",
      "Epoch 133/500\n",
      "244/244 [==============================] - 0s 1ms/step - loss: 0.0909 - recall: 0.9702\n",
      "Epoch 134/500\n",
      "244/244 [==============================] - 0s 1ms/step - loss: 0.0953 - recall: 0.9755\n",
      "Epoch 135/500\n",
      "244/244 [==============================] - 0s 1ms/step - loss: 0.0935 - recall: 0.9717\n",
      "Epoch 136/500\n",
      "244/244 [==============================] - 0s 1ms/step - loss: 0.0945 - recall: 0.9714\n",
      "Epoch 137/500\n",
      "244/244 [==============================] - 0s 1ms/step - loss: 0.0862 - recall: 0.9774\n",
      "Epoch 138/500\n",
      "244/244 [==============================] - 0s 2ms/step - loss: 0.0915 - recall: 0.9741\n",
      "Epoch 139/500\n",
      "244/244 [==============================] - 0s 2ms/step - loss: 0.0910 - recall: 0.9749\n",
      "Epoch 140/500\n",
      "244/244 [==============================] - 0s 1ms/step - loss: 0.0875 - recall: 0.9733\n",
      "Epoch 141/500\n",
      "244/244 [==============================] - 0s 1ms/step - loss: 0.0960 - recall: 0.9718\n",
      "Epoch 142/500\n",
      "244/244 [==============================] - 0s 1ms/step - loss: 0.0868 - recall: 0.9740\n",
      "Epoch 143/500\n",
      "244/244 [==============================] - 0s 1ms/step - loss: 0.1130 - recall: 0.9682\n",
      "Epoch 144/500\n",
      "244/244 [==============================] - 0s 1ms/step - loss: 0.0929 - recall: 0.9670\n",
      "Epoch 145/500\n",
      "244/244 [==============================] - 0s 1ms/step - loss: 0.1021 - recall: 0.9727\n",
      "Epoch 146/500\n",
      "244/244 [==============================] - 0s 1ms/step - loss: 0.1133 - recall: 0.9635\n",
      "Epoch 147/500\n",
      "244/244 [==============================] - 0s 1ms/step - loss: 0.0850 - recall: 0.9760\n",
      "Epoch 148/500\n",
      "244/244 [==============================] - 0s 1ms/step - loss: 0.0932 - recall: 0.9708\n",
      "Epoch 149/500\n",
      "244/244 [==============================] - 0s 1ms/step - loss: 0.0800 - recall: 0.9767\n",
      "Epoch 150/500\n",
      "244/244 [==============================] - 0s 1ms/step - loss: 0.0889 - recall: 0.9704\n",
      "Epoch 151/500\n",
      "244/244 [==============================] - 0s 1ms/step - loss: 0.0878 - recall: 0.9761\n",
      "Epoch 152/500\n",
      "244/244 [==============================] - 0s 1ms/step - loss: 0.0798 - recall: 0.9776\n",
      "Epoch 153/500\n",
      "244/244 [==============================] - 0s 1ms/step - loss: 0.0767 - recall: 0.9774\n",
      "Epoch 154/500\n",
      "244/244 [==============================] - 0s 1ms/step - loss: 0.0797 - recall: 0.9768\n",
      "Epoch 155/500\n",
      "244/244 [==============================] - 0s 1ms/step - loss: 0.0782 - recall: 0.9785\n",
      "Epoch 156/500\n",
      "244/244 [==============================] - 0s 1ms/step - loss: 0.0875 - recall: 0.9736\n",
      "Epoch 157/500\n",
      "244/244 [==============================] - 0s 1ms/step - loss: 0.1087 - recall: 0.9633\n",
      "Epoch 158/500\n",
      "244/244 [==============================] - 0s 1ms/step - loss: 0.0887 - recall: 0.9716\n",
      "Epoch 159/500\n",
      "244/244 [==============================] - 0s 1ms/step - loss: 0.0931 - recall: 0.9685\n",
      "Epoch 160/500\n",
      "244/244 [==============================] - 0s 1ms/step - loss: 0.0976 - recall: 0.9741\n",
      "Epoch 161/500\n",
      "244/244 [==============================] - 0s 1ms/step - loss: 0.0837 - recall: 0.9746\n",
      "Epoch 162/500\n",
      "244/244 [==============================] - 0s 1ms/step - loss: 0.1484 - recall: 0.9751\n",
      "Epoch 163/500\n",
      "244/244 [==============================] - 0s 1ms/step - loss: 0.0924 - recall: 0.9764\n",
      "Epoch 164/500\n",
      "244/244 [==============================] - 0s 1ms/step - loss: 0.0912 - recall: 0.9688\n",
      "Epoch 165/500\n",
      "244/244 [==============================] - 0s 1ms/step - loss: 0.0891 - recall: 0.9768\n",
      "Epoch 166/500\n",
      "244/244 [==============================] - 0s 1ms/step - loss: 0.0953 - recall: 0.9772\n",
      "Epoch 167/500\n",
      "244/244 [==============================] - 0s 1ms/step - loss: 0.0820 - recall: 0.9812\n",
      "Epoch 168/500\n",
      "244/244 [==============================] - 0s 1ms/step - loss: 0.0785 - recall: 0.9818\n",
      "Epoch 169/500\n",
      "244/244 [==============================] - 0s 1ms/step - loss: 0.0749 - recall: 0.9779\n",
      "Epoch 170/500\n",
      "244/244 [==============================] - 0s 1ms/step - loss: 0.1166 - recall: 0.9590\n",
      "Epoch 171/500\n",
      "244/244 [==============================] - 0s 1ms/step - loss: 0.0821 - recall: 0.9862\n",
      "Epoch 172/500\n",
      "244/244 [==============================] - 0s 1ms/step - loss: 0.0802 - recall: 0.9737\n",
      "Epoch 173/500\n",
      "244/244 [==============================] - 0s 1ms/step - loss: 0.0763 - recall: 0.9762\n",
      "Epoch 174/500\n",
      "244/244 [==============================] - 0s 1ms/step - loss: 0.0988 - recall: 0.9800\n",
      "Epoch 175/500\n",
      "244/244 [==============================] - 0s 1ms/step - loss: 0.0844 - recall: 0.9781\n",
      "Epoch 176/500\n",
      "244/244 [==============================] - 0s 1ms/step - loss: 0.1078 - recall: 0.9591\n",
      "Epoch 177/500\n",
      "244/244 [==============================] - 0s 1ms/step - loss: 0.0734 - recall: 0.9793\n",
      "Epoch 178/500\n",
      "244/244 [==============================] - 0s 1ms/step - loss: 0.0799 - recall: 0.9815\n",
      "Epoch 179/500\n",
      "244/244 [==============================] - 0s 1ms/step - loss: 0.0806 - recall: 0.9744\n",
      "Epoch 180/500\n",
      "244/244 [==============================] - 0s 1ms/step - loss: 0.0675 - recall: 0.9806\n",
      "Epoch 181/500\n",
      "244/244 [==============================] - 0s 1ms/step - loss: 0.0914 - recall: 0.9748\n",
      "Epoch 182/500\n",
      "244/244 [==============================] - 0s 1ms/step - loss: 0.0884 - recall: 0.9755\n",
      "Epoch 183/500\n",
      "244/244 [==============================] - 0s 1ms/step - loss: 0.0774 - recall: 0.9774\n",
      "Epoch 184/500\n",
      "244/244 [==============================] - 0s 1ms/step - loss: 0.0795 - recall: 0.9757\n",
      "Epoch 185/500\n",
      "244/244 [==============================] - 0s 1ms/step - loss: 0.0983 - recall: 0.9684\n",
      "Epoch 186/500\n",
      "244/244 [==============================] - 0s 1ms/step - loss: 0.0842 - recall: 0.9837\n",
      "Epoch 187/500\n",
      "244/244 [==============================] - 0s 1ms/step - loss: 0.0868 - recall: 0.9793\n",
      "Epoch 188/500\n",
      "244/244 [==============================] - 0s 1ms/step - loss: 0.0917 - recall: 0.9782\n",
      "Epoch 189/500\n",
      "244/244 [==============================] - 0s 1ms/step - loss: 0.0781 - recall: 0.9803\n",
      "Epoch 190/500\n",
      "244/244 [==============================] - 0s 1ms/step - loss: 0.0619 - recall: 0.9851\n",
      "Epoch 191/500\n",
      "244/244 [==============================] - 0s 1ms/step - loss: 0.0712 - recall: 0.9887\n",
      "Epoch 192/500\n",
      "244/244 [==============================] - 0s 1ms/step - loss: 0.0852 - recall: 0.9776\n",
      "Epoch 193/500\n",
      "244/244 [==============================] - 0s 1ms/step - loss: 0.0866 - recall: 0.9781\n",
      "Epoch 194/500\n",
      "244/244 [==============================] - 0s 1ms/step - loss: 0.0751 - recall: 0.9793\n",
      "Epoch 195/500\n",
      "244/244 [==============================] - 0s 1ms/step - loss: 0.1243 - recall: 0.9771\n",
      "Epoch 196/500\n",
      "244/244 [==============================] - 0s 1ms/step - loss: 0.0856 - recall: 0.9767\n",
      "Epoch 197/500\n",
      "244/244 [==============================] - 0s 1ms/step - loss: 0.0796 - recall: 0.9753\n",
      "Epoch 198/500\n",
      "244/244 [==============================] - 0s 1ms/step - loss: 0.0764 - recall: 0.9836\n",
      "Epoch 199/500\n",
      "244/244 [==============================] - 0s 1ms/step - loss: 0.1189 - recall: 0.9796\n",
      "Epoch 200/500\n",
      "244/244 [==============================] - 0s 1ms/step - loss: 0.0966 - recall: 0.9743\n",
      "Epoch 201/500\n",
      "244/244 [==============================] - 0s 1ms/step - loss: 0.0880 - recall: 0.9747\n",
      "Epoch 202/500\n",
      "244/244 [==============================] - 0s 1ms/step - loss: 0.0755 - recall: 0.9795\n",
      "Epoch 203/500\n",
      "244/244 [==============================] - 0s 1ms/step - loss: 0.0708 - recall: 0.9840\n",
      "Epoch 204/500\n",
      "244/244 [==============================] - 0s 1ms/step - loss: 0.0741 - recall: 0.9826\n",
      "Epoch 205/500\n",
      "244/244 [==============================] - 0s 1ms/step - loss: 0.0764 - recall: 0.9797\n",
      "Epoch 206/500\n",
      "244/244 [==============================] - 0s 1ms/step - loss: 0.0712 - recall: 0.9826\n",
      "Epoch 207/500\n",
      "244/244 [==============================] - 0s 1ms/step - loss: 0.0715 - recall: 0.9825\n",
      "Epoch 208/500\n",
      "244/244 [==============================] - 0s 1ms/step - loss: 0.0731 - recall: 0.9840\n",
      "Epoch 209/500\n",
      "244/244 [==============================] - 0s 1ms/step - loss: 0.0853 - recall: 0.9796\n",
      "Epoch 210/500\n",
      "244/244 [==============================] - 0s 1ms/step - loss: 0.0848 - recall: 0.9732\n",
      "Epoch 211/500\n",
      "244/244 [==============================] - 0s 1ms/step - loss: 0.0809 - recall: 0.9818\n",
      "Epoch 212/500\n",
      "244/244 [==============================] - 0s 1ms/step - loss: 0.0722 - recall: 0.9828\n",
      "Epoch 213/500\n",
      "244/244 [==============================] - 0s 1ms/step - loss: 0.0712 - recall: 0.9826\n",
      "Epoch 214/500\n",
      "244/244 [==============================] - 0s 1ms/step - loss: 0.0785 - recall: 0.9808\n",
      "Epoch 215/500\n",
      "244/244 [==============================] - 0s 1ms/step - loss: 0.1085 - recall: 0.9802\n",
      "Epoch 216/500\n",
      "244/244 [==============================] - 0s 1ms/step - loss: 0.0809 - recall: 0.9844\n",
      "Epoch 217/500\n",
      "244/244 [==============================] - 0s 1ms/step - loss: 0.0705 - recall: 0.9842\n",
      "Epoch 218/500\n",
      "244/244 [==============================] - 0s 1ms/step - loss: 0.0724 - recall: 0.9782\n",
      "Epoch 219/500\n",
      "244/244 [==============================] - 0s 1ms/step - loss: 0.0666 - recall: 0.9825\n",
      "Epoch 220/500\n",
      "244/244 [==============================] - 0s 1ms/step - loss: 0.0746 - recall: 0.9818\n",
      "Epoch 221/500\n",
      "244/244 [==============================] - 0s 1ms/step - loss: 0.1050 - recall: 0.9810\n",
      "Epoch 222/500\n",
      "244/244 [==============================] - 0s 1ms/step - loss: 0.1040 - recall: 0.9701\n",
      "Epoch 223/500\n",
      "244/244 [==============================] - 0s 1ms/step - loss: 0.0710 - recall: 0.9815\n",
      "Epoch 224/500\n",
      "244/244 [==============================] - 0s 1ms/step - loss: 0.0667 - recall: 0.9827\n",
      "Epoch 225/500\n",
      "244/244 [==============================] - 0s 1ms/step - loss: 0.1204 - recall: 0.9836\n",
      "Epoch 226/500\n",
      "244/244 [==============================] - 0s 1ms/step - loss: 0.0873 - recall: 0.9762\n",
      "Epoch 227/500\n",
      "244/244 [==============================] - 0s 1ms/step - loss: 0.0639 - recall: 0.9858\n",
      "Epoch 228/500\n",
      "244/244 [==============================] - 0s 1ms/step - loss: 0.0656 - recall: 0.9816\n",
      "Epoch 229/500\n",
      "244/244 [==============================] - 0s 1ms/step - loss: 0.0596 - recall: 0.9848\n",
      "Epoch 230/500\n",
      "244/244 [==============================] - 0s 1ms/step - loss: 0.0688 - recall: 0.9848\n",
      "Epoch 231/500\n",
      "244/244 [==============================] - 0s 1ms/step - loss: 0.0697 - recall: 0.9838\n",
      "Epoch 232/500\n",
      "244/244 [==============================] - 0s 1ms/step - loss: 0.0639 - recall: 0.9834\n",
      "Epoch 233/500\n",
      "244/244 [==============================] - 0s 1ms/step - loss: 0.0645 - recall: 0.9819\n",
      "Epoch 234/500\n",
      "244/244 [==============================] - 0s 1ms/step - loss: 0.0703 - recall: 0.9856\n",
      "Epoch 235/500\n",
      "244/244 [==============================] - 0s 2ms/step - loss: 0.0690 - recall: 0.9851\n",
      "Epoch 236/500\n",
      "244/244 [==============================] - 0s 1ms/step - loss: 0.0762 - recall: 0.9839\n",
      "Epoch 237/500\n",
      "244/244 [==============================] - 0s 1ms/step - loss: 0.0741 - recall: 0.9815\n",
      "Epoch 238/500\n",
      "244/244 [==============================] - 0s 1ms/step - loss: 0.0762 - recall: 0.9797\n",
      "Epoch 239/500\n",
      "244/244 [==============================] - 0s 2ms/step - loss: 0.0711 - recall: 0.9849\n",
      "Epoch 240/500\n",
      "244/244 [==============================] - 0s 1ms/step - loss: 0.0704 - recall: 0.9836\n",
      "Epoch 241/500\n",
      "244/244 [==============================] - 0s 1ms/step - loss: 0.0679 - recall: 0.9812\n",
      "Epoch 242/500\n",
      "244/244 [==============================] - 0s 1ms/step - loss: 0.0764 - recall: 0.9775\n",
      "Epoch 243/500\n",
      "244/244 [==============================] - 0s 1ms/step - loss: 0.0686 - recall: 0.9821\n",
      "Epoch 244/500\n",
      "244/244 [==============================] - 0s 1ms/step - loss: 0.0749 - recall: 0.9796\n",
      "Epoch 245/500\n",
      "244/244 [==============================] - 0s 1ms/step - loss: 0.0617 - recall: 0.9791\n",
      "Epoch 246/500\n",
      "244/244 [==============================] - 0s 1ms/step - loss: 0.0626 - recall: 0.9842\n",
      "Epoch 247/500\n",
      "244/244 [==============================] - 0s 1ms/step - loss: 0.0951 - recall: 0.9720\n",
      "Epoch 248/500\n",
      "244/244 [==============================] - 0s 1ms/step - loss: 0.0757 - recall: 0.9789\n",
      "Epoch 249/500\n",
      "244/244 [==============================] - 0s 1ms/step - loss: 0.0825 - recall: 0.9772\n",
      "Epoch 250/500\n",
      "244/244 [==============================] - 0s 1ms/step - loss: 0.0674 - recall: 0.9809\n",
      "Epoch 251/500\n",
      "244/244 [==============================] - 0s 1ms/step - loss: 0.0678 - recall: 0.9819\n",
      "Epoch 252/500\n",
      "244/244 [==============================] - 0s 1ms/step - loss: 0.0691 - recall: 0.9862\n",
      "Epoch 253/500\n",
      "244/244 [==============================] - 0s 1ms/step - loss: 0.0587 - recall: 0.9835\n",
      "Epoch 254/500\n",
      "244/244 [==============================] - 0s 1ms/step - loss: 0.0660 - recall: 0.9838\n",
      "Epoch 255/500\n",
      "244/244 [==============================] - 0s 1ms/step - loss: 0.0624 - recall: 0.9902\n",
      "Epoch 256/500\n",
      "244/244 [==============================] - 0s 1ms/step - loss: 0.0584 - recall: 0.9878\n",
      "Epoch 257/500\n",
      "244/244 [==============================] - 0s 1ms/step - loss: 0.0711 - recall: 0.9815\n",
      "Epoch 258/500\n",
      "244/244 [==============================] - 0s 1ms/step - loss: 0.1118 - recall: 0.9826\n",
      "Epoch 259/500\n",
      "244/244 [==============================] - 0s 1ms/step - loss: 0.0669 - recall: 0.9796\n",
      "Epoch 260/500\n",
      "244/244 [==============================] - 0s 1ms/step - loss: 0.0905 - recall: 0.9526\n",
      "Epoch 261/500\n",
      "244/244 [==============================] - 0s 1ms/step - loss: 0.0754 - recall: 0.9793\n",
      "Epoch 262/500\n",
      "244/244 [==============================] - 0s 1ms/step - loss: 0.0853 - recall: 0.9794\n",
      "Epoch 263/500\n",
      "244/244 [==============================] - 0s 1ms/step - loss: 0.0783 - recall: 0.9808\n",
      "Epoch 264/500\n",
      "244/244 [==============================] - 0s 1ms/step - loss: 0.0599 - recall: 0.9861\n",
      "Epoch 265/500\n",
      "244/244 [==============================] - 0s 1ms/step - loss: 0.0625 - recall: 0.9863\n",
      "Epoch 266/500\n",
      "244/244 [==============================] - 0s 1ms/step - loss: 0.0680 - recall: 0.9825\n",
      "Epoch 267/500\n",
      "244/244 [==============================] - 0s 1ms/step - loss: 0.0692 - recall: 0.9819\n",
      "Epoch 268/500\n",
      "244/244 [==============================] - 0s 1ms/step - loss: 0.0711 - recall: 0.9814\n",
      "Epoch 269/500\n",
      "244/244 [==============================] - 0s 1ms/step - loss: 0.0679 - recall: 0.9811\n",
      "Epoch 270/500\n",
      "244/244 [==============================] - 0s 1ms/step - loss: 0.0621 - recall: 0.9809\n",
      "Epoch 271/500\n",
      "244/244 [==============================] - 0s 1ms/step - loss: 0.0635 - recall: 0.9827\n",
      "Epoch 272/500\n",
      "244/244 [==============================] - 0s 1ms/step - loss: 0.0747 - recall: 0.9860\n",
      "Epoch 273/500\n",
      "244/244 [==============================] - 0s 1ms/step - loss: 0.0769 - recall: 0.9819\n",
      "Epoch 274/500\n",
      "244/244 [==============================] - 0s 1ms/step - loss: 0.0597 - recall: 0.9834\n",
      "Epoch 275/500\n",
      "244/244 [==============================] - 0s 1ms/step - loss: 0.0691 - recall: 0.9813\n",
      "Epoch 276/500\n",
      "244/244 [==============================] - 0s 1ms/step - loss: 0.0636 - recall: 0.9836\n",
      "Epoch 277/500\n",
      "244/244 [==============================] - 0s 1ms/step - loss: 0.0955 - recall: 0.9818\n",
      "Epoch 278/500\n",
      "244/244 [==============================] - 0s 1ms/step - loss: 0.0667 - recall: 0.9884\n",
      "Epoch 279/500\n",
      "244/244 [==============================] - 0s 1ms/step - loss: 0.0705 - recall: 0.9806\n",
      "Epoch 280/500\n",
      "244/244 [==============================] - 0s 1ms/step - loss: 0.0818 - recall: 0.9821\n",
      "Epoch 281/500\n",
      "244/244 [==============================] - 0s 1ms/step - loss: 0.0617 - recall: 0.9816\n",
      "Epoch 282/500\n",
      "244/244 [==============================] - 0s 1ms/step - loss: 0.0586 - recall: 0.9841\n",
      "Epoch 283/500\n",
      "244/244 [==============================] - 0s 1ms/step - loss: 0.0538 - recall: 0.9863\n",
      "Epoch 284/500\n",
      "244/244 [==============================] - 0s 1ms/step - loss: 0.0639 - recall: 0.9853\n",
      "Epoch 285/500\n",
      "244/244 [==============================] - 0s 1ms/step - loss: 0.0696 - recall: 0.9804\n",
      "Epoch 286/500\n",
      "244/244 [==============================] - 0s 2ms/step - loss: 0.0625 - recall: 0.9826\n",
      "Epoch 287/500\n",
      "244/244 [==============================] - 0s 1ms/step - loss: 0.0743 - recall: 0.9795\n",
      "Epoch 288/500\n",
      "244/244 [==============================] - 0s 1ms/step - loss: 0.0835 - recall: 0.9795\n",
      "Epoch 289/500\n",
      "244/244 [==============================] - 0s 1ms/step - loss: 0.0724 - recall: 0.9844\n",
      "Epoch 290/500\n",
      "244/244 [==============================] - 0s 1ms/step - loss: 0.0760 - recall: 0.9765\n",
      "Epoch 291/500\n",
      "244/244 [==============================] - 0s 1ms/step - loss: 0.0659 - recall: 0.9859\n",
      "Epoch 292/500\n",
      "244/244 [==============================] - 0s 1ms/step - loss: 0.0636 - recall: 0.9890\n",
      "Epoch 293/500\n",
      "244/244 [==============================] - 0s 1ms/step - loss: 0.0604 - recall: 0.9830\n",
      "Epoch 294/500\n",
      "244/244 [==============================] - 0s 1ms/step - loss: 0.0579 - recall: 0.9868\n",
      "Epoch 295/500\n",
      "244/244 [==============================] - 0s 1ms/step - loss: 0.0690 - recall: 0.9849\n",
      "Epoch 296/500\n",
      "244/244 [==============================] - 0s 1ms/step - loss: 0.0668 - recall: 0.9860\n",
      "Epoch 297/500\n",
      "244/244 [==============================] - 0s 1ms/step - loss: 0.0648 - recall: 0.9822\n",
      "Epoch 298/500\n",
      "244/244 [==============================] - 0s 2ms/step - loss: 0.0638 - recall: 0.9853\n",
      "Epoch 299/500\n",
      "244/244 [==============================] - 0s 1ms/step - loss: 0.0597 - recall: 0.9890\n",
      "Epoch 300/500\n",
      "244/244 [==============================] - 0s 1ms/step - loss: 0.0553 - recall: 0.9894\n",
      "Epoch 301/500\n",
      "244/244 [==============================] - 0s 1ms/step - loss: 0.0695 - recall: 0.9858\n",
      "Epoch 302/500\n",
      "244/244 [==============================] - 0s 1ms/step - loss: 0.0604 - recall: 0.9851\n",
      "Epoch 303/500\n",
      "244/244 [==============================] - 0s 1ms/step - loss: 0.0735 - recall: 0.9841\n",
      "Epoch 304/500\n",
      "244/244 [==============================] - 0s 1ms/step - loss: 0.0635 - recall: 0.9828\n",
      "Epoch 305/500\n",
      "244/244 [==============================] - 0s 1ms/step - loss: 0.0638 - recall: 0.9844\n",
      "Epoch 306/500\n",
      "244/244 [==============================] - 0s 1ms/step - loss: 0.0501 - recall: 0.9859\n",
      "Epoch 307/500\n",
      "244/244 [==============================] - 0s 1ms/step - loss: 0.0651 - recall: 0.9852\n",
      "Epoch 308/500\n",
      "244/244 [==============================] - 0s 1ms/step - loss: 0.0640 - recall: 0.9829\n",
      "Epoch 309/500\n",
      "244/244 [==============================] - 0s 1ms/step - loss: 0.0729 - recall: 0.9838\n",
      "Epoch 310/500\n",
      "244/244 [==============================] - 0s 1ms/step - loss: 0.0702 - recall: 0.9850\n",
      "Epoch 311/500\n",
      "244/244 [==============================] - 0s 1ms/step - loss: 0.0635 - recall: 0.9880\n",
      "Epoch 312/500\n",
      "244/244 [==============================] - 0s 1ms/step - loss: 0.0741 - recall: 0.9836\n",
      "Epoch 313/500\n",
      "244/244 [==============================] - 0s 1ms/step - loss: 0.0565 - recall: 0.9901\n",
      "Epoch 314/500\n",
      "244/244 [==============================] - 0s 1ms/step - loss: 0.0621 - recall: 0.9862\n",
      "Epoch 315/500\n",
      "244/244 [==============================] - 0s 1ms/step - loss: 0.0509 - recall: 0.9898\n",
      "Epoch 316/500\n",
      "244/244 [==============================] - 0s 1ms/step - loss: 0.0581 - recall: 0.9867\n",
      "Epoch 317/500\n",
      "244/244 [==============================] - 0s 1ms/step - loss: 0.0552 - recall: 0.9865\n",
      "Epoch 318/500\n",
      "244/244 [==============================] - 0s 1ms/step - loss: 0.0595 - recall: 0.9847\n",
      "Epoch 319/500\n",
      "244/244 [==============================] - 0s 1ms/step - loss: 0.0571 - recall: 0.9848\n",
      "Epoch 320/500\n",
      "244/244 [==============================] - 0s 1ms/step - loss: 0.0548 - recall: 0.9886\n",
      "Epoch 321/500\n",
      "244/244 [==============================] - 0s 1ms/step - loss: 0.0723 - recall: 0.9836\n",
      "Epoch 322/500\n",
      "244/244 [==============================] - 0s 1ms/step - loss: 0.0625 - recall: 0.9871\n",
      "Epoch 323/500\n",
      "244/244 [==============================] - 0s 1ms/step - loss: 0.0816 - recall: 0.9817\n",
      "Epoch 324/500\n",
      "244/244 [==============================] - 0s 1ms/step - loss: 0.0837 - recall: 0.9741\n",
      "Epoch 325/500\n",
      "244/244 [==============================] - 0s 1ms/step - loss: 0.0567 - recall: 0.9863\n",
      "Epoch 326/500\n",
      "244/244 [==============================] - 0s 1ms/step - loss: 0.0595 - recall: 0.9868\n",
      "Epoch 327/500\n",
      "244/244 [==============================] - 0s 1ms/step - loss: 0.0604 - recall: 0.9836\n",
      "Epoch 328/500\n",
      "244/244 [==============================] - 0s 1ms/step - loss: 0.0591 - recall: 0.9853\n",
      "Epoch 329/500\n",
      "244/244 [==============================] - 0s 1ms/step - loss: 0.0642 - recall: 0.9836\n",
      "Epoch 330/500\n",
      "244/244 [==============================] - 0s 1ms/step - loss: 0.0668 - recall: 0.9847\n",
      "Epoch 331/500\n",
      "244/244 [==============================] - 0s 1ms/step - loss: 0.1043 - recall: 0.9880\n",
      "Epoch 332/500\n",
      "244/244 [==============================] - 0s 1ms/step - loss: 0.0845 - recall: 0.9865\n",
      "Epoch 333/500\n",
      "244/244 [==============================] - 0s 1ms/step - loss: 0.0582 - recall: 0.9863\n",
      "Epoch 334/500\n",
      "244/244 [==============================] - 0s 1ms/step - loss: 0.0529 - recall: 0.9904\n",
      "Epoch 335/500\n",
      "244/244 [==============================] - 0s 1ms/step - loss: 0.0545 - recall: 0.9883\n",
      "Epoch 336/500\n",
      "244/244 [==============================] - 0s 1ms/step - loss: 0.0690 - recall: 0.9816\n",
      "Epoch 337/500\n",
      "244/244 [==============================] - 0s 1ms/step - loss: 0.0587 - recall: 0.9836\n",
      "Epoch 338/500\n",
      "244/244 [==============================] - 0s 1ms/step - loss: 0.0627 - recall: 0.9861\n",
      "Epoch 339/500\n",
      "244/244 [==============================] - 0s 1ms/step - loss: 0.0777 - recall: 0.9892\n",
      "Epoch 340/500\n",
      "244/244 [==============================] - 0s 1ms/step - loss: 0.0577 - recall: 0.9879\n",
      "Epoch 341/500\n",
      "244/244 [==============================] - 0s 1ms/step - loss: 0.0541 - recall: 0.9887\n",
      "Epoch 342/500\n",
      "244/244 [==============================] - 0s 1ms/step - loss: 0.0502 - recall: 0.9888\n",
      "Epoch 343/500\n",
      "244/244 [==============================] - 0s 1ms/step - loss: 0.0734 - recall: 0.9847\n",
      "Epoch 344/500\n",
      "244/244 [==============================] - 0s 1ms/step - loss: 0.0675 - recall: 0.9868\n",
      "Epoch 345/500\n",
      "244/244 [==============================] - 0s 1ms/step - loss: 0.0621 - recall: 0.9840\n",
      "Epoch 346/500\n",
      "244/244 [==============================] - 0s 1ms/step - loss: 0.0529 - recall: 0.9913\n",
      "Epoch 347/500\n",
      "244/244 [==============================] - 0s 1ms/step - loss: 0.0557 - recall: 0.9882\n",
      "Epoch 348/500\n",
      "244/244 [==============================] - 0s 1ms/step - loss: 0.0557 - recall: 0.9890\n",
      "Epoch 349/500\n",
      "244/244 [==============================] - 0s 1ms/step - loss: 0.0544 - recall: 0.9898\n",
      "Epoch 350/500\n",
      "244/244 [==============================] - 0s 1ms/step - loss: 0.0628 - recall: 0.9899\n",
      "Epoch 351/500\n",
      "244/244 [==============================] - 0s 1ms/step - loss: 0.0592 - recall: 0.9888\n",
      "Epoch 352/500\n",
      "244/244 [==============================] - 0s 1ms/step - loss: 0.0705 - recall: 0.9829\n",
      "Epoch 353/500\n",
      "244/244 [==============================] - 0s 1ms/step - loss: 0.0900 - recall: 0.9802\n",
      "Epoch 354/500\n",
      "244/244 [==============================] - 0s 1ms/step - loss: 0.0618 - recall: 0.9844\n",
      "Epoch 355/500\n",
      "244/244 [==============================] - 0s 1ms/step - loss: 0.0519 - recall: 0.9913\n",
      "Epoch 356/500\n",
      "244/244 [==============================] - 0s 1ms/step - loss: 0.0596 - recall: 0.9826\n",
      "Epoch 357/500\n",
      "244/244 [==============================] - 0s 1ms/step - loss: 0.0679 - recall: 0.9886\n",
      "Epoch 358/500\n",
      "244/244 [==============================] - 0s 1ms/step - loss: 0.0629 - recall: 0.9881\n",
      "Epoch 359/500\n",
      "244/244 [==============================] - 0s 1ms/step - loss: 0.0532 - recall: 0.9901\n",
      "Epoch 360/500\n",
      "244/244 [==============================] - 0s 2ms/step - loss: 0.0661 - recall: 0.9880\n",
      "Epoch 361/500\n",
      "244/244 [==============================] - 0s 1ms/step - loss: 0.0744 - recall: 0.9889\n",
      "Epoch 362/500\n",
      "244/244 [==============================] - 0s 1ms/step - loss: 0.0603 - recall: 0.9888\n",
      "Epoch 363/500\n",
      "244/244 [==============================] - 0s 1ms/step - loss: 0.0513 - recall: 0.9906\n",
      "Epoch 364/500\n",
      "244/244 [==============================] - 0s 1ms/step - loss: 0.0583 - recall: 0.9920\n",
      "Epoch 365/500\n",
      "244/244 [==============================] - 0s 1ms/step - loss: 0.0604 - recall: 0.9881\n",
      "Epoch 366/500\n",
      "244/244 [==============================] - 0s 1ms/step - loss: 0.0489 - recall: 0.9874\n",
      "Epoch 367/500\n",
      "244/244 [==============================] - 0s 1ms/step - loss: 0.0604 - recall: 0.9893\n",
      "Epoch 368/500\n",
      "244/244 [==============================] - 0s 2ms/step - loss: 0.0585 - recall: 0.9836\n",
      "Epoch 369/500\n",
      "244/244 [==============================] - 0s 1ms/step - loss: 0.0619 - recall: 0.9868\n",
      "Epoch 370/500\n",
      "244/244 [==============================] - 1s 2ms/step - loss: 0.0890 - recall: 0.9800\n",
      "Epoch 371/500\n",
      "244/244 [==============================] - 1s 2ms/step - loss: 0.1713 - recall: 0.9864\n",
      "Epoch 372/500\n",
      "244/244 [==============================] - 0s 2ms/step - loss: 0.0664 - recall: 0.9802\n",
      "Epoch 373/500\n",
      "244/244 [==============================] - 0s 2ms/step - loss: 0.0543 - recall: 0.9872\n",
      "Epoch 374/500\n",
      "244/244 [==============================] - 0s 1ms/step - loss: 0.0489 - recall: 0.9887\n",
      "Epoch 375/500\n",
      "244/244 [==============================] - 0s 2ms/step - loss: 0.0596 - recall: 0.9914\n",
      "Epoch 376/500\n",
      "244/244 [==============================] - 0s 1ms/step - loss: 0.0427 - recall: 0.9905\n",
      "Epoch 377/500\n",
      "244/244 [==============================] - 0s 1ms/step - loss: 0.0561 - recall: 0.9852\n",
      "Epoch 378/500\n",
      "244/244 [==============================] - 0s 1ms/step - loss: 0.0535 - recall: 0.9861\n",
      "Epoch 379/500\n",
      "244/244 [==============================] - 0s 1ms/step - loss: 0.0560 - recall: 0.9850\n",
      "Epoch 380/500\n",
      "244/244 [==============================] - 0s 1ms/step - loss: 0.0540 - recall: 0.9870\n",
      "Epoch 381/500\n",
      "244/244 [==============================] - 0s 1ms/step - loss: 0.0555 - recall: 0.9894\n",
      "Epoch 382/500\n",
      "244/244 [==============================] - 0s 1ms/step - loss: 0.0593 - recall: 0.9859\n",
      "Epoch 383/500\n",
      "244/244 [==============================] - 0s 1ms/step - loss: 0.0671 - recall: 0.9832\n",
      "Epoch 384/500\n",
      "244/244 [==============================] - 0s 1ms/step - loss: 0.1013 - recall: 0.9810\n",
      "Epoch 385/500\n",
      "244/244 [==============================] - 0s 1ms/step - loss: 0.1070 - recall: 0.9329\n",
      "Epoch 386/500\n",
      "244/244 [==============================] - 0s 2ms/step - loss: 0.0648 - recall: 0.9819\n",
      "Epoch 387/500\n",
      "244/244 [==============================] - 0s 1ms/step - loss: 0.0692 - recall: 0.9901\n",
      "Epoch 388/500\n",
      "244/244 [==============================] - 0s 1ms/step - loss: 0.0615 - recall: 0.9853\n",
      "Epoch 389/500\n",
      "244/244 [==============================] - 0s 1ms/step - loss: 0.0596 - recall: 0.9878\n",
      "Epoch 390/500\n",
      "244/244 [==============================] - 0s 1ms/step - loss: 0.0520 - recall: 0.9918\n",
      "Epoch 391/500\n",
      "244/244 [==============================] - 0s 1ms/step - loss: 0.0452 - recall: 0.9905\n",
      "Epoch 392/500\n",
      "244/244 [==============================] - 0s 1ms/step - loss: 0.0443 - recall: 0.9925\n",
      "Epoch 393/500\n",
      "244/244 [==============================] - 0s 2ms/step - loss: 0.0492 - recall: 0.9874\n",
      "Epoch 394/500\n",
      "244/244 [==============================] - 0s 1ms/step - loss: 0.0532 - recall: 0.9906\n",
      "Epoch 395/500\n",
      "244/244 [==============================] - 0s 1ms/step - loss: 0.0522 - recall: 0.9893\n",
      "Epoch 396/500\n",
      "244/244 [==============================] - 0s 1ms/step - loss: 0.0588 - recall: 0.9890\n",
      "Epoch 397/500\n",
      "244/244 [==============================] - 0s 1ms/step - loss: 0.0643 - recall: 0.9876\n",
      "Epoch 398/500\n",
      "244/244 [==============================] - 0s 1ms/step - loss: 0.0755 - recall: 0.9848\n",
      "Epoch 399/500\n",
      "244/244 [==============================] - 0s 1ms/step - loss: 0.0560 - recall: 0.9895\n",
      "Epoch 400/500\n",
      "244/244 [==============================] - 0s 1ms/step - loss: 0.0879 - recall: 0.9913\n",
      "Epoch 401/500\n",
      "244/244 [==============================] - 0s 1ms/step - loss: 0.0808 - recall: 0.9905\n",
      "Epoch 402/500\n",
      "244/244 [==============================] - 0s 1ms/step - loss: 0.0625 - recall: 0.9902\n",
      "Epoch 403/500\n",
      "244/244 [==============================] - 0s 1ms/step - loss: 0.0558 - recall: 0.9914\n",
      "Epoch 404/500\n",
      "244/244 [==============================] - 0s 1ms/step - loss: 0.1011 - recall: 0.9857\n",
      "Epoch 405/500\n",
      "244/244 [==============================] - 0s 1ms/step - loss: 0.0549 - recall: 0.9906\n",
      "Epoch 406/500\n",
      "244/244 [==============================] - 0s 1ms/step - loss: 0.0473 - recall: 0.9906\n",
      "Epoch 407/500\n",
      "244/244 [==============================] - 0s 2ms/step - loss: 0.0486 - recall: 0.9873\n",
      "Epoch 408/500\n",
      "244/244 [==============================] - 0s 1ms/step - loss: 0.0465 - recall: 0.9915\n",
      "Epoch 409/500\n",
      "244/244 [==============================] - 0s 1ms/step - loss: 0.0534 - recall: 0.9909\n",
      "Epoch 410/500\n",
      "244/244 [==============================] - 0s 1ms/step - loss: 0.0546 - recall: 0.9877\n",
      "Epoch 411/500\n",
      "244/244 [==============================] - 0s 2ms/step - loss: 0.0656 - recall: 0.9880\n",
      "Epoch 412/500\n",
      "244/244 [==============================] - 0s 1ms/step - loss: 0.0655 - recall: 0.9870\n",
      "Epoch 413/500\n",
      "244/244 [==============================] - 0s 1ms/step - loss: 0.0782 - recall: 0.9836\n",
      "Epoch 414/500\n",
      "244/244 [==============================] - 0s 2ms/step - loss: 0.0827 - recall: 0.9901\n",
      "Epoch 415/500\n",
      "244/244 [==============================] - 0s 1ms/step - loss: 0.0613 - recall: 0.9859\n",
      "Epoch 416/500\n",
      "244/244 [==============================] - 0s 1ms/step - loss: 0.0545 - recall: 0.9917\n",
      "Epoch 417/500\n",
      "244/244 [==============================] - 0s 1ms/step - loss: 0.0791 - recall: 0.9865\n",
      "Epoch 418/500\n",
      "244/244 [==============================] - 0s 1ms/step - loss: 0.0718 - recall: 0.9857\n",
      "Epoch 419/500\n",
      "244/244 [==============================] - 0s 1ms/step - loss: 0.0811 - recall: 0.9881\n",
      "Epoch 420/500\n",
      "244/244 [==============================] - 0s 2ms/step - loss: 0.0551 - recall: 0.9879\n",
      "Epoch 421/500\n",
      "244/244 [==============================] - 0s 2ms/step - loss: 0.0491 - recall: 0.9910\n",
      "Epoch 422/500\n",
      "244/244 [==============================] - 0s 1ms/step - loss: 0.0460 - recall: 0.9907\n",
      "Epoch 423/500\n",
      "244/244 [==============================] - 0s 2ms/step - loss: 0.0536 - recall: 0.9880\n",
      "Epoch 424/500\n",
      "244/244 [==============================] - 0s 1ms/step - loss: 0.0594 - recall: 0.9909\n",
      "Epoch 425/500\n",
      "244/244 [==============================] - 0s 1ms/step - loss: 0.0660 - recall: 0.9874\n",
      "Epoch 426/500\n",
      "244/244 [==============================] - 0s 1ms/step - loss: 0.0561 - recall: 0.9873\n",
      "Epoch 427/500\n",
      "244/244 [==============================] - 0s 1ms/step - loss: 0.0903 - recall: 0.9905\n",
      "Epoch 428/500\n",
      "244/244 [==============================] - 0s 1ms/step - loss: 0.0554 - recall: 0.9893\n",
      "Epoch 429/500\n",
      "244/244 [==============================] - 0s 1ms/step - loss: 0.0579 - recall: 0.9889\n",
      "Epoch 430/500\n",
      "244/244 [==============================] - 0s 1ms/step - loss: 0.0579 - recall: 0.9861\n",
      "Epoch 431/500\n",
      "244/244 [==============================] - 0s 2ms/step - loss: 0.0510 - recall: 0.9884\n",
      "Epoch 432/500\n",
      "244/244 [==============================] - 0s 1ms/step - loss: 0.0468 - recall: 0.9900\n",
      "Epoch 433/500\n",
      "244/244 [==============================] - 0s 1ms/step - loss: 0.0606 - recall: 0.9901\n",
      "Epoch 434/500\n",
      "244/244 [==============================] - 0s 1ms/step - loss: 0.1350 - recall: 0.9932\n",
      "Epoch 435/500\n",
      "244/244 [==============================] - 0s 1ms/step - loss: 0.0646 - recall: 0.9908\n",
      "Epoch 436/500\n",
      "244/244 [==============================] - 0s 993us/step - loss: 0.0504 - recall: 0.9923\n",
      "Epoch 437/500\n",
      "244/244 [==============================] - 0s 1ms/step - loss: 0.0496 - recall: 0.9926\n",
      "Epoch 438/500\n",
      "244/244 [==============================] - 0s 1ms/step - loss: 0.0476 - recall: 0.9877\n",
      "Epoch 439/500\n",
      "244/244 [==============================] - 0s 1ms/step - loss: 0.0392 - recall: 0.9897\n",
      "Epoch 440/500\n",
      "244/244 [==============================] - 0s 1ms/step - loss: 0.0505 - recall: 0.9880\n",
      "Epoch 441/500\n",
      "244/244 [==============================] - 0s 1ms/step - loss: 0.0467 - recall: 0.9887\n",
      "Epoch 442/500\n",
      "244/244 [==============================] - 0s 1ms/step - loss: 0.0524 - recall: 0.9913\n",
      "Epoch 443/500\n",
      "244/244 [==============================] - 0s 1ms/step - loss: 0.0527 - recall: 0.9896\n",
      "Epoch 444/500\n",
      "244/244 [==============================] - 0s 1ms/step - loss: 0.0510 - recall: 0.9869\n",
      "Epoch 445/500\n",
      "244/244 [==============================] - 0s 1ms/step - loss: 0.0447 - recall: 0.9887\n",
      "Epoch 446/500\n",
      "244/244 [==============================] - 0s 1ms/step - loss: 0.0554 - recall: 0.9898\n",
      "Epoch 447/500\n",
      "244/244 [==============================] - 0s 1ms/step - loss: 0.0721 - recall: 0.9856\n",
      "Epoch 448/500\n",
      "244/244 [==============================] - 0s 1ms/step - loss: 0.0628 - recall: 0.9887\n",
      "Epoch 449/500\n",
      "244/244 [==============================] - 0s 1ms/step - loss: 0.0526 - recall: 0.9886\n",
      "Epoch 450/500\n",
      "244/244 [==============================] - 0s 1ms/step - loss: 0.0469 - recall: 0.9908\n",
      "Epoch 451/500\n",
      "244/244 [==============================] - 0s 1ms/step - loss: 0.0481 - recall: 0.9889\n",
      "Epoch 452/500\n",
      "244/244 [==============================] - 0s 1ms/step - loss: 0.0714 - recall: 0.9913\n",
      "Epoch 453/500\n",
      "244/244 [==============================] - 0s 1ms/step - loss: 0.0706 - recall: 0.9858\n",
      "Epoch 454/500\n",
      "244/244 [==============================] - 0s 1ms/step - loss: 0.0730 - recall: 0.9952\n",
      "Epoch 455/500\n",
      "244/244 [==============================] - 0s 1ms/step - loss: 0.0500 - recall: 0.9907\n",
      "Epoch 456/500\n",
      "244/244 [==============================] - 0s 1ms/step - loss: 0.0554 - recall: 0.9936\n",
      "Epoch 457/500\n",
      "244/244 [==============================] - 0s 1ms/step - loss: 0.0631 - recall: 0.9853\n",
      "Epoch 458/500\n",
      "244/244 [==============================] - 0s 1ms/step - loss: 0.0474 - recall: 0.9926\n",
      "Epoch 459/500\n",
      "244/244 [==============================] - 0s 1ms/step - loss: 0.0498 - recall: 0.9916\n",
      "Epoch 460/500\n",
      "244/244 [==============================] - 0s 1ms/step - loss: 0.0466 - recall: 0.9928\n",
      "Epoch 461/500\n",
      "244/244 [==============================] - 0s 1ms/step - loss: 0.0500 - recall: 0.9904\n",
      "Epoch 462/500\n",
      "244/244 [==============================] - 0s 1ms/step - loss: 0.0630 - recall: 0.9946\n",
      "Epoch 463/500\n",
      "244/244 [==============================] - 0s 1ms/step - loss: 0.0826 - recall: 0.9898\n",
      "Epoch 464/500\n",
      "244/244 [==============================] - 0s 1ms/step - loss: 0.1113 - recall: 0.9578\n",
      "Epoch 465/500\n",
      "244/244 [==============================] - 0s 1ms/step - loss: 0.0641 - recall: 0.9605\n",
      "Epoch 466/500\n",
      "244/244 [==============================] - 0s 1ms/step - loss: 0.0496 - recall: 0.9699\n",
      "Epoch 467/500\n",
      "244/244 [==============================] - 0s 1ms/step - loss: 0.0945 - recall: 0.9607\n",
      "Epoch 468/500\n",
      "244/244 [==============================] - 0s 1ms/step - loss: 0.0556 - recall: 0.9645\n",
      "Epoch 469/500\n",
      "244/244 [==============================] - 0s 1ms/step - loss: 0.1412 - recall: 0.9127\n",
      "Epoch 470/500\n",
      "244/244 [==============================] - 0s 1ms/step - loss: 0.0629 - recall: 0.9508\n",
      "Epoch 471/500\n",
      "244/244 [==============================] - 0s 1ms/step - loss: 0.0589 - recall: 0.9635\n",
      "Epoch 472/500\n",
      "244/244 [==============================] - 0s 1ms/step - loss: 0.0431 - recall: 0.9668\n",
      "Epoch 473/500\n",
      "244/244 [==============================] - 0s 1ms/step - loss: 0.0385 - recall: 0.9718\n",
      "Epoch 474/500\n",
      "244/244 [==============================] - 0s 1ms/step - loss: 0.0457 - recall: 0.9909\n",
      "Epoch 475/500\n",
      "244/244 [==============================] - 0s 1ms/step - loss: 0.0529 - recall: 0.9892\n",
      "Epoch 476/500\n",
      "244/244 [==============================] - 0s 1ms/step - loss: 0.0443 - recall: 0.9922\n",
      "Epoch 477/500\n",
      "244/244 [==============================] - 0s 1ms/step - loss: 0.0662 - recall: 0.9927\n",
      "Epoch 478/500\n",
      "244/244 [==============================] - 0s 1ms/step - loss: 0.0678 - recall: 0.9891\n",
      "Epoch 479/500\n",
      "244/244 [==============================] - 0s 1ms/step - loss: 0.0397 - recall: 0.9915\n",
      "Epoch 480/500\n",
      "244/244 [==============================] - 0s 1ms/step - loss: 0.0504 - recall: 0.9914\n",
      "Epoch 481/500\n",
      "244/244 [==============================] - 0s 1ms/step - loss: 0.0430 - recall: 0.9933\n",
      "Epoch 482/500\n",
      "244/244 [==============================] - 0s 1ms/step - loss: 0.0658 - recall: 0.9897\n",
      "Epoch 483/500\n",
      "244/244 [==============================] - 0s 1ms/step - loss: 0.0540 - recall: 0.9809\n",
      "Epoch 484/500\n",
      "244/244 [==============================] - 0s 1ms/step - loss: 0.0546 - recall: 0.9890\n",
      "Epoch 485/500\n",
      "244/244 [==============================] - 0s 1ms/step - loss: 0.0548 - recall: 0.9852\n",
      "Epoch 486/500\n",
      "244/244 [==============================] - 0s 1ms/step - loss: 0.0658 - recall: 0.9904\n",
      "Epoch 487/500\n",
      "244/244 [==============================] - 0s 2ms/step - loss: 0.0500 - recall: 0.9899\n",
      "Epoch 488/500\n",
      "244/244 [==============================] - 0s 1ms/step - loss: 0.0493 - recall: 0.9851\n",
      "Epoch 489/500\n",
      "244/244 [==============================] - 0s 1ms/step - loss: 0.0612 - recall: 0.9919\n",
      "Epoch 490/500\n",
      "244/244 [==============================] - 0s 1ms/step - loss: 0.0995 - recall: 0.9896\n",
      "Epoch 491/500\n",
      "244/244 [==============================] - 0s 1ms/step - loss: 0.0778 - recall: 0.9872\n",
      "Epoch 492/500\n",
      "244/244 [==============================] - 0s 1ms/step - loss: 0.0621 - recall: 0.9922\n",
      "Epoch 493/500\n",
      "244/244 [==============================] - 0s 1ms/step - loss: 0.0556 - recall: 0.9879\n",
      "Epoch 494/500\n",
      "244/244 [==============================] - 0s 1ms/step - loss: 0.0647 - recall: 0.9848\n",
      "Epoch 495/500\n",
      "244/244 [==============================] - 0s 1ms/step - loss: 0.0621 - recall: 0.9892\n",
      "Epoch 496/500\n",
      "244/244 [==============================] - 0s 1ms/step - loss: 0.0463 - recall: 0.9935\n",
      "Epoch 497/500\n",
      "244/244 [==============================] - 0s 1ms/step - loss: 0.0522 - recall: 0.9869\n",
      "Epoch 498/500\n",
      "244/244 [==============================] - 0s 1ms/step - loss: 0.0482 - recall: 0.9918\n",
      "Epoch 499/500\n",
      "244/244 [==============================] - 0s 1ms/step - loss: 0.0523 - recall: 0.9901\n",
      "Epoch 500/500\n",
      "244/244 [==============================] - 0s 1ms/step - loss: 0.0435 - recall: 0.9914\n"
     ]
    },
    {
     "data": {
      "text/plain": [
       "<tensorflow.python.keras.callbacks.History at 0x1dda63b0548>"
      ]
     },
     "execution_count": 24,
     "metadata": {},
     "output_type": "execute_result"
    }
   ],
   "source": [
    "model.fit(X_train, y_train,epochs=500, callbacks=[model_checkpoint_callback])\r\n"
   ]
  },
  {
   "cell_type": "code",
   "execution_count": 25,
   "metadata": {},
   "outputs": [
    {
     "data": {
      "text/plain": [
       "<tensorflow.python.training.tracking.util.CheckpointLoadStatus at 0x1ddac734288>"
      ]
     },
     "execution_count": 25,
     "metadata": {},
     "output_type": "execute_result"
    }
   ],
   "source": [
    "model.load_weights(checkpoint_filepath)"
   ]
  },
  {
   "cell_type": "code",
   "execution_count": 26,
   "metadata": {
    "collapsed": false,
    "pycharm": {
     "name": "#%%\n"
    }
   },
   "outputs": [
    {
     "name": "stdout",
     "output_type": "stream",
     "text": [
      "61/61 [==============================] - 0s 615us/step - loss: 0.4276 - recall: 0.9244\n"
     ]
    },
    {
     "data": {
      "text/plain": [
       "[0.42761939764022827, 0.9243876338005066]"
      ]
     },
     "execution_count": 26,
     "metadata": {},
     "output_type": "execute_result"
    }
   ],
   "source": [
    "model.evaluate(X_test, y_test)"
   ]
  },
  {
   "cell_type": "code",
   "execution_count": 27,
   "metadata": {
    "collapsed": false,
    "pycharm": {
     "name": "#%%\n"
    }
   },
   "outputs": [
    {
     "name": "stdout",
     "output_type": "stream",
     "text": [
      "FNN\n",
      "0.8745501285347044\n",
      "0.8677248677248677\n",
      "0.873269435569755\n",
      "0.870488322717622\n"
     ]
    }
   ],
   "source": [
    "from sklearn.metrics import accuracy_score, precision_score, recall_score, f1_score\n",
    "\n",
    "print(\"FNN\")\n",
    "print(accuracy_score(y_test, predictions_test))\n",
    "print(precision_score(y_test, predictions_test))\n",
    "print(recall_score(y_test, predictions_test))\n",
    "print(f1_score(y_test, predictions_test))\n"
   ]
  },
  {
   "cell_type": "code",
   "execution_count": 28,
   "metadata": {
    "collapsed": false,
    "pycharm": {
     "name": "#%%\n"
    }
   },
   "outputs": [
    {
     "data": {
      "text/plain": [
       "<sklearn.metrics._plot.confusion_matrix.ConfusionMatrixDisplay at 0x1ddac826748>"
      ]
     },
     "execution_count": 28,
     "metadata": {},
     "output_type": "execute_result"
    },
    {
     "data": {
      "image/png": "[encoded data removed]",
      "text/plain": [
       "<Figure size 432x288 with 2 Axes>"
      ]
     },
     "metadata": {
      "needs_background": "light"
     },
     "output_type": "display_data"
    }
   ],
   "source": [
    "from sklearn.metrics import ConfusionMatrixDisplay, confusion_matrix\n",
    "predictions_test = (model.predict(X_test) > 0.5).astype('int32')\n",
    "\n",
    "disp = ConfusionMatrixDisplay(confusion_matrix(y_test, predictions_test))\n",
    "disp.plot()"
   ]
  },
  {
   "cell_type": "markdown",
   "metadata": {},
   "source": [
    "# 3rd Method: Decision Tree"
   ]
  },
  {
   "cell_type": "code",
   "execution_count": 29,
   "metadata": {},
   "outputs": [
    {
     "data": {
      "text/plain": [
       "DecisionTreeClassifier()"
      ]
     },
     "execution_count": 29,
     "metadata": {},
     "output_type": "execute_result"
    }
   ],
   "source": [
    "from sklearn.tree import DecisionTreeClassifier\n",
    "\n",
    "tree = DecisionTreeClassifier()\n",
    "tree.fit(X_train, y_train)\n"
   ]
  },
  {
   "cell_type": "code",
   "execution_count": 30,
   "metadata": {},
   "outputs": [
    {
     "name": "stdout",
     "output_type": "stream",
     "text": [
      "Decision Tree\n",
      "0.9460154241645244\n",
      "0.9493534482758621\n",
      "0.9382321618743344\n",
      "0.9437600428494911\n"
     ]
    },
    {
     "data": {
      "text/plain": [
       "array([0.914224  , 0.95155816, 0.95061728])"
      ]
     },
     "execution_count": 30,
     "metadata": {},
     "output_type": "execute_result"
    }
   ],
   "source": [
    "predictions_test = tree.predict(X_test)\n",
    "\n",
    "print(\"Decision Tree\")\n",
    "print(accuracy_score(y_test, predictions_test))\n",
    "print(precision_score(y_test, predictions_test))\n",
    "print(recall_score(y_test, predictions_test))\n",
    "print(f1_score(y_test, predictions_test))\n",
    "\n",
    "cross_val_score(tree, stroke_features, stroke_labels, cv=3, scoring='accuracy')"
   ]
  },
  {
   "cell_type": "code",
   "execution_count": 31,
   "metadata": {},
   "outputs": [
    {
     "data": {
      "text/plain": [
       "<sklearn.metrics._plot.confusion_matrix.ConfusionMatrixDisplay at 0x1dda2dcd048>"
      ]
     },
     "execution_count": 31,
     "metadata": {},
     "output_type": "execute_result"
    },
    {
     "data": {
      "image/png": "[encoded data removed]",
      "text/plain": [
       "<Figure size 432x288 with 2 Axes>"
      ]
     },
     "metadata": {
      "needs_background": "light"
     },
     "output_type": "display_data"
    }
   ],
   "source": [
    "predictions_test = (tree.predict(X_test) > 0.5).astype('int32')\n",
    "\n",
    "disp = ConfusionMatrixDisplay(confusion_matrix(y_test, predictions_test))\n",
    "disp.plot()"
   ]
  },
  {
   "cell_type": "markdown",
   "metadata": {},
   "source": [
    "# 4th Method: Logistic Regression"
   ]
  },
  {
   "cell_type": "code",
   "execution_count": 32,
   "metadata": {},
   "outputs": [
    {
     "data": {
      "text/plain": [
       "LogisticRegression(max_iter=500)"
      ]
     },
     "execution_count": 32,
     "metadata": {},
     "output_type": "execute_result"
    }
   ],
   "source": [
    "from sklearn.linear_model import LogisticRegression\r\n",
    "\r\n",
    "log_Reg_clf = LogisticRegression(max_iter=500)\r\n",
    "log_Reg_clf.fit(X_train, y_train)"
   ]
  },
  {
   "cell_type": "code",
   "execution_count": 33,
   "metadata": {},
   "outputs": [
    {
     "name": "stdout",
     "output_type": "stream",
     "text": [
      "Logistic Regression\n",
      "0.7773778920308483\n",
      "0.7495069033530573\n",
      "0.8093716719914803\n",
      "0.778289810547875\n"
     ]
    },
    {
     "data": {
      "text/plain": [
       "array([0.77044122, 0.7769207 , 0.78395062])"
      ]
     },
     "execution_count": 33,
     "metadata": {},
     "output_type": "execute_result"
    }
   ],
   "source": [
    "predictions_test = log_Reg_clf.predict(X_test)\n",
    "\n",
    "print(\"Logistic Regression\")\n",
    "print(accuracy_score(y_test, predictions_test))\n",
    "print(precision_score(y_test, predictions_test))\n",
    "print(recall_score(y_test, predictions_test))\n",
    "print(f1_score(y_test, predictions_test))\n",
    "\n",
    "cross_val_score(log_Reg_clf, stroke_features, stroke_labels, cv=3, scoring='accuracy')"
   ]
  },
  {
   "cell_type": "code",
   "execution_count": 34,
   "metadata": {},
   "outputs": [
    {
     "data": {
      "text/plain": [
       "<sklearn.metrics._plot.confusion_matrix.ConfusionMatrixDisplay at 0x1dda2dcdb48>"
      ]
     },
     "execution_count": 34,
     "metadata": {},
     "output_type": "execute_result"
    },
    {
     "data": {
      "image/png": "[encoded data removed]",
      "text/plain": [
       "<Figure size 432x288 with 2 Axes>"
      ]
     },
     "metadata": {
      "needs_background": "light"
     },
     "output_type": "display_data"
    }
   ],
   "source": [
    "predictions_test = (log_Reg_clf.predict(X_test) > 0.5).astype('int32')\n",
    "\n",
    "disp = ConfusionMatrixDisplay(confusion_matrix(y_test, predictions_test))\n",
    "disp.plot()"
   ]
  },
  {
   "cell_type": "code",
   "execution_count": null,
   "metadata": {},
   "outputs": [],
   "source": []
  }
 ],
 "metadata": {
  "interpreter": {
   "hash": "7a2c529f6bfd5a2fdff3e8703698c4991faa1938fcb8fb5780fdcb1171be4f87"
  },
  "kernelspec": {
   "display_name": "Python 3.7.10 64-bit ('Tensor2': conda)",
   "name": "python3"
  },
  "language_info": {
   "codemirror_mode": {
    "name": "ipython",
    "version": 3
   },
   "file_extension": ".py",
   "mimetype": "text/x-python",
   "name": "python",
   "nbconvert_exporter": "python",
   "pygments_lexer": "ipython3",
   "version": "3.7.10"
  }
 },
 "nbformat": 4,
 "nbformat_minor": 0
}